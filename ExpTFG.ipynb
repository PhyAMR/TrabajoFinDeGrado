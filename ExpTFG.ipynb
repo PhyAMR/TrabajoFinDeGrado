{
 "cells": [
  {
   "cell_type": "markdown",
   "metadata": {},
   "source": [
    "# Notebook para los códigos del TFG"
   ]
  },
  {
   "cell_type": "markdown",
   "metadata": {},
   "source": []
  },
  {
   "cell_type": "markdown",
   "metadata": {},
   "source": [
    "## Librerias necesarias"
   ]
  },
  {
   "cell_type": "markdown",
   "metadata": {},
   "source": [
    "### Instalamos las librerias"
   ]
  },
  {
   "cell_type": "code",
   "execution_count": 2,
   "metadata": {},
   "outputs": [],
   "source": [
    "#%pip install pandas\n",
    "#%pip install pysr"
   ]
  },
  {
   "cell_type": "code",
   "execution_count": 3,
   "metadata": {},
   "outputs": [
    {
     "data": {
      "application/json": {
       "cell": {
        "!": "OSMagics",
        "HTML": "Other",
        "SVG": "Other",
        "bash": "Other",
        "capture": "ExecutionMagics",
        "cmd": "Other",
        "code_wrap": "ExecutionMagics",
        "debug": "ExecutionMagics",
        "file": "Other",
        "html": "DisplayMagics",
        "javascript": "DisplayMagics",
        "js": "DisplayMagics",
        "latex": "DisplayMagics",
        "markdown": "DisplayMagics",
        "perl": "Other",
        "prun": "ExecutionMagics",
        "pypy": "Other",
        "python": "Other",
        "python2": "Other",
        "python3": "Other",
        "ruby": "Other",
        "script": "ScriptMagics",
        "sh": "Other",
        "svg": "DisplayMagics",
        "sx": "OSMagics",
        "system": "OSMagics",
        "time": "ExecutionMagics",
        "timeit": "ExecutionMagics",
        "writefile": "OSMagics"
       },
       "line": {
        "alias": "OSMagics",
        "alias_magic": "BasicMagics",
        "autoawait": "AsyncMagics",
        "autocall": "AutoMagics",
        "automagic": "AutoMagics",
        "autosave": "KernelMagics",
        "bookmark": "OSMagics",
        "cd": "OSMagics",
        "clear": "KernelMagics",
        "cls": "KernelMagics",
        "code_wrap": "ExecutionMagics",
        "colors": "BasicMagics",
        "conda": "PackagingMagics",
        "config": "ConfigMagics",
        "connect_info": "KernelMagics",
        "copy": "Other",
        "ddir": "Other",
        "debug": "ExecutionMagics",
        "dhist": "OSMagics",
        "dirs": "OSMagics",
        "doctest_mode": "BasicMagics",
        "echo": "Other",
        "ed": "Other",
        "edit": "KernelMagics",
        "env": "OSMagics",
        "gui": "BasicMagics",
        "hist": "Other",
        "history": "HistoryMagics",
        "killbgscripts": "ScriptMagics",
        "ldir": "Other",
        "less": "KernelMagics",
        "load": "CodeMagics",
        "load_ext": "ExtensionMagics",
        "loadpy": "CodeMagics",
        "logoff": "LoggingMagics",
        "logon": "LoggingMagics",
        "logstart": "LoggingMagics",
        "logstate": "LoggingMagics",
        "logstop": "LoggingMagics",
        "ls": "Other",
        "lsmagic": "BasicMagics",
        "macro": "ExecutionMagics",
        "magic": "BasicMagics",
        "mamba": "PackagingMagics",
        "matplotlib": "PylabMagics",
        "micromamba": "PackagingMagics",
        "mkdir": "Other",
        "more": "KernelMagics",
        "notebook": "BasicMagics",
        "page": "BasicMagics",
        "pastebin": "CodeMagics",
        "pdb": "ExecutionMagics",
        "pdef": "NamespaceMagics",
        "pdoc": "NamespaceMagics",
        "pfile": "NamespaceMagics",
        "pinfo": "NamespaceMagics",
        "pinfo2": "NamespaceMagics",
        "pip": "PackagingMagics",
        "popd": "OSMagics",
        "pprint": "BasicMagics",
        "precision": "BasicMagics",
        "prun": "ExecutionMagics",
        "psearch": "NamespaceMagics",
        "psource": "NamespaceMagics",
        "pushd": "OSMagics",
        "pwd": "OSMagics",
        "pycat": "OSMagics",
        "pylab": "PylabMagics",
        "qtconsole": "KernelMagics",
        "quickref": "BasicMagics",
        "recall": "HistoryMagics",
        "rehashx": "OSMagics",
        "reload_ext": "ExtensionMagics",
        "ren": "Other",
        "rep": "Other",
        "rerun": "HistoryMagics",
        "reset": "NamespaceMagics",
        "reset_selective": "NamespaceMagics",
        "rmdir": "Other",
        "run": "ExecutionMagics",
        "save": "CodeMagics",
        "sc": "OSMagics",
        "set_env": "OSMagics",
        "store": "StoreMagics",
        "sx": "OSMagics",
        "system": "OSMagics",
        "tb": "ExecutionMagics",
        "time": "ExecutionMagics",
        "timeit": "ExecutionMagics",
        "unalias": "OSMagics",
        "unload_ext": "ExtensionMagics",
        "uv": "PackagingMagics",
        "who": "NamespaceMagics",
        "who_ls": "NamespaceMagics",
        "whos": "NamespaceMagics",
        "xdel": "NamespaceMagics",
        "xmode": "BasicMagics"
       }
      },
      "text/plain": [
       "Available line magics:\n",
       "%alias  %alias_magic  %autoawait  %autocall  %automagic  %autosave  %bookmark  %cd  %clear  %cls  %code_wrap  %colors  %conda  %config  %connect_info  %copy  %ddir  %debug  %dhist  %dirs  %doctest_mode  %echo  %ed  %edit  %env  %gui  %hist  %history  %killbgscripts  %ldir  %less  %load  %load_ext  %loadpy  %logoff  %logon  %logstart  %logstate  %logstop  %ls  %lsmagic  %macro  %magic  %mamba  %matplotlib  %micromamba  %mkdir  %more  %notebook  %page  %pastebin  %pdb  %pdef  %pdoc  %pfile  %pinfo  %pinfo2  %pip  %popd  %pprint  %precision  %prun  %psearch  %psource  %pushd  %pwd  %pycat  %pylab  %qtconsole  %quickref  %recall  %rehashx  %reload_ext  %ren  %rep  %rerun  %reset  %reset_selective  %rmdir  %run  %save  %sc  %set_env  %store  %sx  %system  %tb  %time  %timeit  %unalias  %unload_ext  %uv  %who  %who_ls  %whos  %xdel  %xmode\n",
       "\n",
       "Available cell magics:\n",
       "%%!  %%HTML  %%SVG  %%bash  %%capture  %%cmd  %%code_wrap  %%debug  %%file  %%html  %%javascript  %%js  %%latex  %%markdown  %%perl  %%prun  %%pypy  %%python  %%python2  %%python3  %%ruby  %%script  %%sh  %%svg  %%sx  %%system  %%time  %%timeit  %%writefile\n",
       "\n",
       "Automagic is ON, % prefix IS NOT needed for line magics."
      ]
     },
     "execution_count": 3,
     "metadata": {},
     "output_type": "execute_result"
    }
   ],
   "source": [
    "%lsmagic"
   ]
  },
  {
   "cell_type": "markdown",
   "metadata": {},
   "source": [
    "### Importamos las librerias"
   ]
  },
  {
   "cell_type": "code",
   "execution_count": 4,
   "metadata": {},
   "outputs": [],
   "source": [
    "import pandas as pd\n",
    "#from pysr import PySRRegressor De momento no lo estoy usando\n",
    "import seaborn as sns\n",
    "import matplotlib.pyplot as plt"
   ]
  },
  {
   "cell_type": "markdown",
   "metadata": {},
   "source": [
    "## Preprocesamiento de datos"
   ]
  },
  {
   "cell_type": "markdown",
   "metadata": {},
   "source": [
    "### Abrir los archivos"
   ]
  },
  {
   "cell_type": "markdown",
   "metadata": {},
   "source": [
    "#### Abrimos el archivo physical properties"
   ]
  },
  {
   "cell_type": "code",
   "execution_count": 5,
   "metadata": {},
   "outputs": [],
   "source": [
    "physical_properties = 'Data/raw/hlsp_candels_hst_wfc3_egs_multi_v1_physpar-cat.txt'\n",
    "\n",
    "phys_prop_data = pd.read_csv(physical_properties, sep='\\s+', header=None, skiprows=123)\n",
    "\n",
    "\n",
    "\n",
    "#A continuación añadimos las columnas\n",
    "\n",
    "phys_prop_data.columns = [\"ID\",\n",
    "\"age_2a_tau (dex(yr))\" ,\n",
    "\"tau_2a_tau (Gyr)\" ,\n",
    "\"Av_2a_tau (mag)\" ,\n",
    "\"SFR_2a_tau (solMass/yr)\" ,\n",
    "\"chi2_2a_tau \",\n",
    "\"age_4b (dex(yr))\" ,\n",
    "\"EBV_4b (mag)\" ,\n",
    "\"age_6a_tau (dex(yr))\" ,\n",
    "\"tau_6a_tau (Gyr)\" ,\n",
    "\"EBV_6a_tau (mag)\" ,\n",
    "\"SFR_6a_tau (solMass/yr)\" ,\n",
    "\"met_6a_tau (solMet)\" ,\n",
    "\"extlw_6a_tau \",\n",
    "\"chi2_6a_tau \",\n",
    "\"L1400_6a_tau (erg/s/Hz)\" ,\n",
    "\"L2700_6a_tau (erg/s/Hz)\" ,\n",
    "\"UMag_6a_tau (mag)\" ,\n",
    "\"BMag_6a_tau (mag)\" ,\n",
    "\"VMag_6a_tau (mag)\" ,\n",
    "\"RMag_6a_tau (mag)\" ,\n",
    "\"IMag_6a_tau (mag)\" ,\n",
    "\"JMag_6a_tau (mag)\" ,\n",
    "\"KMag_6a_tau (mag)\" ,\n",
    "\"age_10c (dex(yr))\" ,\n",
    "\"SFH_10c \",\n",
    "\"tau_10c (Gyr)\" ,\n",
    "\"met_10c (solMet)\" ,\n",
    "\"M_l99_11a_tau (dex(solMass))\",\n",
    " \"M_u99_11a_tau (dex(solMass))\",\n",
    " \"age_11a_tau (dex(yr))\" ,\n",
    "\"SFR_11a_tau (solMass/yr)\" ,\n",
    "\"M_l68_12a (dex(solMass))\",\n",
    "\"M_u68_12a (dex(solMass))\",\n",
    " \"M_l95_12a (dex(solMass))\",\n",
    " \"M_u95_12a (dex(solMass))\",\n",
    " \"age_12a (dex(yr))\" ,\n",
    "\"tau_12a (Gyr)\" ,\n",
    "\"EBV_12a (mag)\" ,\n",
    "\"met_12a (solMet)\" ,\n",
    "\"Lbol_12a (dex(solLum))\" ,\n",
    "\"chi2_12a \",\n",
    "\"age_13a_tau (dex(yr))\" ,\n",
    "\"tau_13a_tau (Gyr)\" ,\n",
    "\"Av_13a_tau (mag)\" ,\n",
    "\"SFR_13a_tau (solMass/yr)\" ,\n",
    "\"chi2_13a_tau \",\n",
    "\"age_14a (dex(yr))\" ,\n",
    "\"SFH_14a \",\n",
    "\"tau_14a (Gyr)\" ,\n",
    "\"EBV_14a (mag)\" ,\n",
    "\"SFR_14a (solMass/yr)\" ,\n",
    "\"q_14a \",\n",
    "\"age_6a_tau ^NEB (dex(yr))\" ,\n",
    "\"tau_6a_tau ^NEB (Gyr)\" ,\n",
    "\"EBV_6a_tau ^NEB (mag)\" ,\n",
    "\"SFR_6a_tau ^NEB (solMass/yr)\" ,\n",
    "\"met_6a_tau ^NEB (solMet)\" ,\n",
    "\"extlw_6a_tau ^NEB \",\n",
    "\"chi2_6a_tau ^NEB \",\n",
    "\"L1400_6a_tau ^NEB (erg/s/Hz)\" ,\n",
    "\"L2700_6a_tau ^NEB (erg/s/Hz)\" ,\n",
    "\"UMag_6a_tau ^NEB (mag)\" ,\n",
    "\"BMag_6a_tau ^NEB (mag)\" ,\n",
    "\"VMag_6a_tau ^NEB (mag)\" ,\n",
    "\"RMag_6a_tau ^NEB (mag)\" ,\n",
    "\"IMag_6a_tau ^NEB (mag)\" ,\n",
    "\"JMag_6a_tau ^NEB (mag)\" ,\n",
    "\"KMag_6a_tau ^NEB (mag)\" ,\n",
    "\"age_6a_deltau (dex(yr))\" ,\n",
    "\"tau_6a_deltau (Gyr)\" ,\n",
    "\"EBV_6a_deltau (mag)\" ,\n",
    "\"SFR_6a_deltau (solMass/yr)\" ,\n",
    "\"met_6a_deltau (solMet)\" ,\n",
    "\"extlw_6a_deltau \",\n",
    "\"chi2_6a_deltau \",\n",
    "\"L1400_6a_deltau (erg/s/Hz)\" ,\n",
    "\"L2700_6a_deltau (erg/s/Hz)\" ,\n",
    "\"UMag_6a_deltau (mag)\" ,\n",
    "\"BMag_6a_deltau (mag)\" ,\n",
    "\"VMag_6a_deltau (mag)\" ,\n",
    "\"RMag_6a_deltau (mag)\" ,\n",
    "\"IMag_6a_deltau (mag)\" ,\n",
    "\"JMag_6a_deltau (mag)\" ,\n",
    "\"KMag_6a_deltau (mag)\" ,\n",
    "\"age_6a_invtau (dex(yr))\" ,\n",
    "\"tau_6a_invtau (Gyr)\" ,\n",
    "\"EBV_6a_invtau (mag)\" ,\n",
    "\"SFR_6a_invtau (solMass/yr)\" ,\n",
    "\"met_6a_invtau (solMet)\" ,\n",
    "\"extlw_6a_invtau \",\n",
    "\"chi2_6a_invtau \",\n",
    "\"L1400_6a_invtau (erg/s/Hz)\" ,\n",
    "\"L2700_6a_invtau (erg/s/Hz)\" ,\n",
    "\"UMag_6a_invtau (mag)\" ,\n",
    "\"BMag_6a_invtau (mag)\" ,\n",
    "\"VMag_6a_invtau (mag)\" ,\n",
    "\"RMag_6a_invtau (mag)\" ,\n",
    "\"IMag_6a_invtau (mag)\" ,\n",
    "\"JMag_6a_invtau (mag)\" ,\n",
    "\"KMag_6a_invtau (mag)\" ,\n",
    "\"age_10c ^dust (dex(yr))\" ,\n",
    "\"SFH_10c ^dust \",\n",
    "\"tau_10c ^dust (Gyr)\" ,\n",
    "\"met_10c ^dust (solMet)\" ,\n",
    "\"age_14a_const (dex(yr))\" ,\n",
    "\"EBV_14a_const (mag)\" ,\n",
    "\"SFR_14a_const (solMass/yr)\" ,\n",
    "\"q_14a_const \",\n",
    "\"age_14a_lin (dex(yr))\" ,\n",
    "\"EBV_14a_lin (mag)\" ,\n",
    "\"SFR_14a_lin (solMass/yr)\" ,\n",
    "\"q_14a_lin \",\n",
    "\"age_14a_deltau (dex(yr))\" ,\n",
    "\"tau_14a_deltau (Gyr)\" ,\n",
    "\"EBV_14a_deltau (mag)\" ,\n",
    "\"SFR_14a_deltau (solMass/yr)\" ,\n",
    "\"q_14a_deltau \",\n",
    "\"age_14a_tau (dex(yr))\" ,\n",
    "\"tau_14a_tau (Gyr)\" ,\n",
    "\"EBV_14a_tau (mag)\" ,\n",
    "\"SFR_14a_tau (solMass/yr)\" ,\n",
    "\"q_14a_tau \"]"
   ]
  },
  {
   "cell_type": "markdown",
   "metadata": {},
   "source": [
    "##### Lo mostramos"
   ]
  },
  {
   "cell_type": "code",
   "execution_count": 6,
   "metadata": {},
   "outputs": [
    {
     "name": "stdout",
     "output_type": "stream",
     "text": [
      "<class 'pandas.core.frame.DataFrame'>\n",
      "RangeIndex: 41457 entries, 0 to 41456\n",
      "Columns: 123 entries, ID to q_14a_tau \n",
      "dtypes: float64(110), int64(13)\n",
      "memory usage: 38.9 MB\n"
     ]
    }
   ],
   "source": [
    "phys_prop_data.info()"
   ]
  },
  {
   "cell_type": "markdown",
   "metadata": {},
   "source": [
    "#### Abrimos el archivo mass"
   ]
  },
  {
   "cell_type": "code",
   "execution_count": 7,
   "metadata": {},
   "outputs": [],
   "source": [
    "mass = 'Data/raw/hlsp_candels_hst_wfc3_egs_multi_v1_mass-cat.txt'\n",
    "\n",
    "mass_data = pd.read_csv(mass, sep='\\s+', header=None, skiprows=39)\n",
    "\n",
    "\n",
    "#A continuación añadimos las columnas\n",
    "\n",
    "mass_data.columns = [\"ID\"\n",
    ",\"RAdeg (deg) \"\n",
    ",\"DECdeg (deg) \"\n",
    ",\"Hmag (mag) \"\n",
    ",\"PhotFlag \"\n",
    ",\"Class_star \"\n",
    ",\"AGNflag \"\n",
    ",\"zphot \"\n",
    ",\"zspec \"\n",
    ",\"q_zspec \"\n",
    ",\"r_zspec \"\n",
    ",\"zbestM \"\n",
    ",\"zphot_l68 \"\n",
    ",\"zphot_u68 \"\n",
    ",\"zphot_l95 \"\n",
    ",\"zphot_u95 \"\n",
    ",\"zAGN \"\n",
    ",\"M_neb_med (dex(solMass)) \"\n",
    ",\"s_neb_med (dex(solMass)) \"\n",
    ",\"M_med (dex(solMass)) \"\n",
    ",\"s_med (dex(solMass)) \"\n",
    ",\"M_14a_cons (dex(solMass)) \"\n",
    ",\"M_11a_tau (dex(solMass)) \"\n",
    ",\"M_6a_tau^NEB (dex(solMass)) \"\n",
    ",\"M_13a_tau (dex(solMass)) \"\n",
    ",\"M_12a_tau (dex(solMass)) \"\n",
    ",\"M_6a_tau (dex(solMass)) \"\n",
    ",\"M_2a_tau (dex(solMass)) \"\n",
    ",\"M_15a (dex(solMass)) \"\n",
    ",\"M_10c (dex(solMass)) \"\n",
    ",\"M_14a_lin (dex(solMass)) \"\n",
    ",\"M_14a_deltau (dex(solMass)) \"\n",
    ",\"M_14a_tau (dex(solMass)) \"\n",
    ",\"M_14a_inctau (dex(solMass)) \"\n",
    ",\"M_14a (dex(solMass)) \"\n",
    ",\"M_neb_med_lin (solMass) \"\n",
    ",\"s_neb_med_lin (solMass) \"\n",
    ",\"M_med_lin (solMass) \"\n",
    ",\"s_med_lin (solMass)\" ]"
   ]
  },
  {
   "cell_type": "markdown",
   "metadata": {},
   "source": [
    "##### Lo mostramos"
   ]
  },
  {
   "cell_type": "code",
   "execution_count": 8,
   "metadata": {},
   "outputs": [
    {
     "name": "stdout",
     "output_type": "stream",
     "text": [
      "AGNflag \n",
      "0    41215\n",
      "1      242\n",
      "Name: count, dtype: int64\n",
      "\n",
      "\n",
      "242\n"
     ]
    }
   ],
   "source": [
    "print(mass_data['AGNflag '].value_counts())\n",
    "print(\"\\n\")\n",
    "print(sum(list(mass_data['zAGN '].value_counts()))-41215)"
   ]
  },
  {
   "cell_type": "markdown",
   "metadata": {},
   "source": [
    "#### Abrimos el archivo photo"
   ]
  },
  {
   "cell_type": "code",
   "execution_count": 9,
   "metadata": {},
   "outputs": [],
   "source": [
    "phot = 'Data/raw/hlsp_candels_hst_wfc3_egs_multi_v2_redshift-cat.txt'\n",
    "\n",
    "phot_data = pd.read_csv(phot, sep='\\s+', header=None, skiprows=61)\n",
    "\n",
    "\n",
    "#A continuación añadimos las columnas\n",
    "\n",
    "phot_data.columns = [\" file \"\n",
    ",\"ID\"\n",
    ",\"RA\"\n",
    ",\"DEC\"\n",
    ",\"z_best \"\n",
    ",\"z_best_type \"\n",
    ",\"z_spec \"\n",
    ",\"z_spec_ref \"\n",
    ",\"z_grism \"\n",
    ",\"mFDa4_z_peak \"\n",
    ",\"mFDa4_z_weight \"\n",
    ",\"mFDa4_z683_low \"\n",
    ",\"mFDa4_z683_high \"\n",
    ",\"mFDa4_z954_low \"\n",
    ",\"mFDa4_z954_high \"\n",
    ",\"HB4_z_peak \"\n",
    ",\"HB4_z_weight \"\n",
    ",\"HB4_z683_low \"\n",
    ",\"HB4_z683_high \"\n",
    ",\"HB4_z954_low \"\n",
    ",\"HB4_z954_high \"\n",
    ",\"Finkelstein_z_peak \"\n",
    ",\"Finkelstein_z_weight \"\n",
    ",\"Finkelstein_z683_low \"\n",
    ",\"Finkelstein_z683_high \"\n",
    ",\"Finkelstein_z954_low \"\n",
    ",\"Finkelstein_z954_high \"\n",
    ",\"Fontana_z_peak \"\n",
    ",\"Fontana_z_weight \"\n",
    ",\"Fontana_z683_low \"\n",
    ",\"Fontana_z683_high \"\n",
    ",\"Fontana_z954_low \"\n",
    ",\"Fontana_z954_high \"\n",
    ",\"Pforr_z_peak \"\n",
    ",\"Pforr_z_weight \"\n",
    ",\"Pforr_z683_low \"\n",
    ",\"Pforr_z683_high \"\n",
    ",\"Pforr_z954_low \"\n",
    ",\"Pforr_z954_high \"\n",
    ",\"Salvato_z_peak \"\n",
    ",\"Salvato_z_weight \"\n",
    ",\"Salvato_z683_low \"\n",
    ",\"Salvato_z683_high \"\n",
    ",\"Salvato_z954_low \"\n",
    ",\"Salvato_z954_high \"\n",
    ",\"Wiklind_z_peak \"\n",
    ",\"Wiklind_z_weight \"\n",
    ",\"Wiklind_z683_low \"\n",
    ",\"Wiklind_z683_high \"\n",
    ",\"Wiklind_z954_low \"\n",
    ",\"Wiklind_z954_high \"\n",
    ",\"Wuyts_z_peak \"\n",
    ",\"Wuyts_z_weight \"\n",
    ",\"Wuyts_z683_low \"\n",
    ",\"Wuyts_z683_high \"\n",
    ",\"Wuyts_z954_low \"\n",
    ",\"Wuyts_z954_high\" ]"
   ]
  },
  {
   "cell_type": "markdown",
   "metadata": {},
   "source": [
    "##### Lo mostramos"
   ]
  },
  {
   "cell_type": "code",
   "execution_count": 10,
   "metadata": {},
   "outputs": [
    {
     "name": "stdout",
     "output_type": "stream",
     "text": [
      "<class 'pandas.core.frame.DataFrame'>\n",
      "RangeIndex: 41457 entries, 0 to 41456\n",
      "Data columns (total 57 columns):\n",
      " #   Column                  Non-Null Count  Dtype  \n",
      "---  ------                  --------------  -----  \n",
      " 0    file                   41457 non-null  object \n",
      " 1   ID                      41457 non-null  int64  \n",
      " 2   RA                      41457 non-null  float64\n",
      " 3   DEC                     41457 non-null  float64\n",
      " 4   z_best                  41457 non-null  float64\n",
      " 5   z_best_type             41457 non-null  object \n",
      " 6   z_spec                  41457 non-null  float64\n",
      " 7   z_spec_ref              41457 non-null  object \n",
      " 8   z_grism                 41457 non-null  float64\n",
      " 9   mFDa4_z_peak            41457 non-null  float64\n",
      " 10  mFDa4_z_weight          41457 non-null  float64\n",
      " 11  mFDa4_z683_low          41457 non-null  float64\n",
      " 12  mFDa4_z683_high         41457 non-null  float64\n",
      " 13  mFDa4_z954_low          41457 non-null  float64\n",
      " 14  mFDa4_z954_high         41457 non-null  float64\n",
      " 15  HB4_z_peak              41457 non-null  float64\n",
      " 16  HB4_z_weight            41457 non-null  float64\n",
      " 17  HB4_z683_low            41457 non-null  float64\n",
      " 18  HB4_z683_high           41457 non-null  float64\n",
      " 19  HB4_z954_low            41457 non-null  float64\n",
      " 20  HB4_z954_high           41457 non-null  float64\n",
      " 21  Finkelstein_z_peak      41457 non-null  float64\n",
      " 22  Finkelstein_z_weight    41457 non-null  float64\n",
      " 23  Finkelstein_z683_low    41457 non-null  float64\n",
      " 24  Finkelstein_z683_high   41457 non-null  float64\n",
      " 25  Finkelstein_z954_low    41457 non-null  float64\n",
      " 26  Finkelstein_z954_high   41457 non-null  float64\n",
      " 27  Fontana_z_peak          41457 non-null  float64\n",
      " 28  Fontana_z_weight        41457 non-null  float64\n",
      " 29  Fontana_z683_low        41457 non-null  float64\n",
      " 30  Fontana_z683_high       41457 non-null  float64\n",
      " 31  Fontana_z954_low        41457 non-null  float64\n",
      " 32  Fontana_z954_high       41457 non-null  float64\n",
      " 33  Pforr_z_peak            41457 non-null  float64\n",
      " 34  Pforr_z_weight          41457 non-null  float64\n",
      " 35  Pforr_z683_low          41457 non-null  float64\n",
      " 36  Pforr_z683_high         41457 non-null  float64\n",
      " 37  Pforr_z954_low          41457 non-null  float64\n",
      " 38  Pforr_z954_high         41457 non-null  float64\n",
      " 39  Salvato_z_peak          41457 non-null  float64\n",
      " 40  Salvato_z_weight        41457 non-null  float64\n",
      " 41  Salvato_z683_low        41457 non-null  float64\n",
      " 42  Salvato_z683_high       41457 non-null  float64\n",
      " 43  Salvato_z954_low        41457 non-null  float64\n",
      " 44  Salvato_z954_high       41457 non-null  float64\n",
      " 45  Wiklind_z_peak          41457 non-null  float64\n",
      " 46  Wiklind_z_weight        41457 non-null  float64\n",
      " 47  Wiklind_z683_low        41457 non-null  float64\n",
      " 48  Wiklind_z683_high       41457 non-null  float64\n",
      " 49  Wiklind_z954_low        41457 non-null  float64\n",
      " 50  Wiklind_z954_high       41457 non-null  float64\n",
      " 51  Wuyts_z_peak            41457 non-null  float64\n",
      " 52  Wuyts_z_weight          41457 non-null  float64\n",
      " 53  Wuyts_z683_low          41457 non-null  float64\n",
      " 54  Wuyts_z683_high         41457 non-null  float64\n",
      " 55  Wuyts_z954_low          41457 non-null  float64\n",
      " 56  Wuyts_z954_high         41457 non-null  float64\n",
      "dtypes: float64(53), int64(1), object(3)\n",
      "memory usage: 18.0+ MB\n"
     ]
    }
   ],
   "source": [
    "phot_data.info()"
   ]
  },
  {
   "cell_type": "markdown",
   "metadata": {},
   "source": [
    "## Filtramos los datos\n",
    "\n",
    "En esta parte basicamente, vamos a seleccionar el redshift que queremos en nuestro caso el del cosmic noon, ver que todos los valores son únicos y eliminar algunos datos que puedan considerarse como outliers, por ejemplo, los agujeros negros que son un pequeño número en comparación con las que no."
   ]
  },
  {
   "cell_type": "code",
   "execution_count": 11,
   "metadata": {},
   "outputs": [
    {
     "data": {
      "text/html": [
       "<div>\n",
       "<style scoped>\n",
       "    .dataframe tbody tr th:only-of-type {\n",
       "        vertical-align: middle;\n",
       "    }\n",
       "\n",
       "    .dataframe tbody tr th {\n",
       "        vertical-align: top;\n",
       "    }\n",
       "\n",
       "    .dataframe thead th {\n",
       "        text-align: right;\n",
       "    }\n",
       "</style>\n",
       "<table border=\"1\" class=\"dataframe\">\n",
       "  <thead>\n",
       "    <tr style=\"text-align: right;\">\n",
       "      <th></th>\n",
       "      <th>file</th>\n",
       "      <th>ID</th>\n",
       "      <th>RA</th>\n",
       "      <th>DEC</th>\n",
       "      <th>z_best</th>\n",
       "      <th>z_best_type</th>\n",
       "      <th>z_spec</th>\n",
       "      <th>z_spec_ref</th>\n",
       "      <th>z_grism</th>\n",
       "      <th>mFDa4_z_peak</th>\n",
       "      <th>...</th>\n",
       "      <th>Wiklind_z683_low</th>\n",
       "      <th>Wiklind_z683_high</th>\n",
       "      <th>Wiklind_z954_low</th>\n",
       "      <th>Wiklind_z954_high</th>\n",
       "      <th>Wuyts_z_peak</th>\n",
       "      <th>Wuyts_z_weight</th>\n",
       "      <th>Wuyts_z683_low</th>\n",
       "      <th>Wuyts_z683_high</th>\n",
       "      <th>Wuyts_z954_low</th>\n",
       "      <th>Wuyts_z954_high</th>\n",
       "    </tr>\n",
       "  </thead>\n",
       "  <tbody>\n",
       "    <tr>\n",
       "      <th>0</th>\n",
       "      <td>ALL_OPTIMIZED_PDFS_EGS_ID00001.pzd</td>\n",
       "      <td>1</td>\n",
       "      <td>215.301103</td>\n",
       "      <td>53.051246</td>\n",
       "      <td>1.947</td>\n",
       "      <td>p</td>\n",
       "      <td>-1.0</td>\n",
       "      <td>--</td>\n",
       "      <td>-1.0</td>\n",
       "      <td>1.95</td>\n",
       "      <td>...</td>\n",
       "      <td>1.683</td>\n",
       "      <td>2.204</td>\n",
       "      <td>1.536</td>\n",
       "      <td>2.575</td>\n",
       "      <td>1.94</td>\n",
       "      <td>1.934</td>\n",
       "      <td>1.879</td>\n",
       "      <td>1.968</td>\n",
       "      <td>1.492</td>\n",
       "      <td>2.002</td>\n",
       "    </tr>\n",
       "    <tr>\n",
       "      <th>6</th>\n",
       "      <td>ALL_OPTIMIZED_PDFS_EGS_ID00007.pzd</td>\n",
       "      <td>7</td>\n",
       "      <td>215.301035</td>\n",
       "      <td>53.051430</td>\n",
       "      <td>1.567</td>\n",
       "      <td>p</td>\n",
       "      <td>-1.0</td>\n",
       "      <td>--</td>\n",
       "      <td>-1.0</td>\n",
       "      <td>1.55</td>\n",
       "      <td>...</td>\n",
       "      <td>1.645</td>\n",
       "      <td>6.789</td>\n",
       "      <td>1.453</td>\n",
       "      <td>9.641</td>\n",
       "      <td>1.50</td>\n",
       "      <td>1.522</td>\n",
       "      <td>1.432</td>\n",
       "      <td>1.618</td>\n",
       "      <td>1.351</td>\n",
       "      <td>1.774</td>\n",
       "    </tr>\n",
       "    <tr>\n",
       "      <th>13</th>\n",
       "      <td>ALL_OPTIMIZED_PDFS_EGS_ID00014.pzd</td>\n",
       "      <td>14</td>\n",
       "      <td>215.299993</td>\n",
       "      <td>53.051383</td>\n",
       "      <td>1.589</td>\n",
       "      <td>p</td>\n",
       "      <td>-1.0</td>\n",
       "      <td>--</td>\n",
       "      <td>-1.0</td>\n",
       "      <td>1.53</td>\n",
       "      <td>...</td>\n",
       "      <td>0.443</td>\n",
       "      <td>2.734</td>\n",
       "      <td>0.036</td>\n",
       "      <td>5.188</td>\n",
       "      <td>1.53</td>\n",
       "      <td>1.589</td>\n",
       "      <td>0.951</td>\n",
       "      <td>2.206</td>\n",
       "      <td>0.546</td>\n",
       "      <td>2.702</td>\n",
       "    </tr>\n",
       "    <tr>\n",
       "      <th>15</th>\n",
       "      <td>ALL_OPTIMIZED_PDFS_EGS_ID00016.pzd</td>\n",
       "      <td>16</td>\n",
       "      <td>215.299495</td>\n",
       "      <td>53.051344</td>\n",
       "      <td>1.879</td>\n",
       "      <td>p</td>\n",
       "      <td>-1.0</td>\n",
       "      <td>--</td>\n",
       "      <td>-1.0</td>\n",
       "      <td>1.60</td>\n",
       "      <td>...</td>\n",
       "      <td>1.235</td>\n",
       "      <td>2.476</td>\n",
       "      <td>0.682</td>\n",
       "      <td>2.945</td>\n",
       "      <td>1.19</td>\n",
       "      <td>1.435</td>\n",
       "      <td>1.006</td>\n",
       "      <td>1.890</td>\n",
       "      <td>0.837</td>\n",
       "      <td>2.139</td>\n",
       "    </tr>\n",
       "    <tr>\n",
       "      <th>17</th>\n",
       "      <td>ALL_OPTIMIZED_PDFS_EGS_ID00018.pzd</td>\n",
       "      <td>18</td>\n",
       "      <td>215.293744</td>\n",
       "      <td>53.047429</td>\n",
       "      <td>1.788</td>\n",
       "      <td>p</td>\n",
       "      <td>-1.0</td>\n",
       "      <td>--</td>\n",
       "      <td>-1.0</td>\n",
       "      <td>1.99</td>\n",
       "      <td>...</td>\n",
       "      <td>1.805</td>\n",
       "      <td>2.188</td>\n",
       "      <td>1.633</td>\n",
       "      <td>2.375</td>\n",
       "      <td>2.58</td>\n",
       "      <td>2.624</td>\n",
       "      <td>2.574</td>\n",
       "      <td>2.687</td>\n",
       "      <td>2.554</td>\n",
       "      <td>2.767</td>\n",
       "    </tr>\n",
       "    <tr>\n",
       "      <th>...</th>\n",
       "      <td>...</td>\n",
       "      <td>...</td>\n",
       "      <td>...</td>\n",
       "      <td>...</td>\n",
       "      <td>...</td>\n",
       "      <td>...</td>\n",
       "      <td>...</td>\n",
       "      <td>...</td>\n",
       "      <td>...</td>\n",
       "      <td>...</td>\n",
       "      <td>...</td>\n",
       "      <td>...</td>\n",
       "      <td>...</td>\n",
       "      <td>...</td>\n",
       "      <td>...</td>\n",
       "      <td>...</td>\n",
       "      <td>...</td>\n",
       "      <td>...</td>\n",
       "      <td>...</td>\n",
       "      <td>...</td>\n",
       "      <td>...</td>\n",
       "    </tr>\n",
       "    <tr>\n",
       "      <th>41449</th>\n",
       "      <td>ALL_OPTIMIZED_PDFS_EGS_ID41450.pzd</td>\n",
       "      <td>41450</td>\n",
       "      <td>214.580315</td>\n",
       "      <td>52.721460</td>\n",
       "      <td>1.702</td>\n",
       "      <td>p</td>\n",
       "      <td>-1.0</td>\n",
       "      <td>--</td>\n",
       "      <td>-1.0</td>\n",
       "      <td>1.50</td>\n",
       "      <td>...</td>\n",
       "      <td>0.226</td>\n",
       "      <td>2.190</td>\n",
       "      <td>0.032</td>\n",
       "      <td>2.671</td>\n",
       "      <td>1.50</td>\n",
       "      <td>1.702</td>\n",
       "      <td>1.414</td>\n",
       "      <td>2.022</td>\n",
       "      <td>1.176</td>\n",
       "      <td>2.361</td>\n",
       "    </tr>\n",
       "    <tr>\n",
       "      <th>41452</th>\n",
       "      <td>ALL_OPTIMIZED_PDFS_EGS_ID41453.pzd</td>\n",
       "      <td>41453</td>\n",
       "      <td>214.586356</td>\n",
       "      <td>52.724939</td>\n",
       "      <td>1.912</td>\n",
       "      <td>p</td>\n",
       "      <td>-1.0</td>\n",
       "      <td>--</td>\n",
       "      <td>-1.0</td>\n",
       "      <td>2.00</td>\n",
       "      <td>...</td>\n",
       "      <td>0.364</td>\n",
       "      <td>2.590</td>\n",
       "      <td>0.075</td>\n",
       "      <td>2.862</td>\n",
       "      <td>2.00</td>\n",
       "      <td>1.912</td>\n",
       "      <td>1.528</td>\n",
       "      <td>2.236</td>\n",
       "      <td>1.323</td>\n",
       "      <td>2.462</td>\n",
       "    </tr>\n",
       "    <tr>\n",
       "      <th>41454</th>\n",
       "      <td>ALL_OPTIMIZED_PDFS_EGS_ID41455.pzd</td>\n",
       "      <td>41455</td>\n",
       "      <td>214.719359</td>\n",
       "      <td>52.819680</td>\n",
       "      <td>2.078</td>\n",
       "      <td>p</td>\n",
       "      <td>-1.0</td>\n",
       "      <td>--</td>\n",
       "      <td>-1.0</td>\n",
       "      <td>1.74</td>\n",
       "      <td>...</td>\n",
       "      <td>0.847</td>\n",
       "      <td>5.271</td>\n",
       "      <td>0.129</td>\n",
       "      <td>8.512</td>\n",
       "      <td>1.73</td>\n",
       "      <td>1.854</td>\n",
       "      <td>0.933</td>\n",
       "      <td>2.875</td>\n",
       "      <td>0.335</td>\n",
       "      <td>4.201</td>\n",
       "    </tr>\n",
       "    <tr>\n",
       "      <th>41455</th>\n",
       "      <td>ALL_OPTIMIZED_PDFS_EGS_ID41456.pzd</td>\n",
       "      <td>41456</td>\n",
       "      <td>214.887465</td>\n",
       "      <td>52.928631</td>\n",
       "      <td>1.590</td>\n",
       "      <td>p</td>\n",
       "      <td>-1.0</td>\n",
       "      <td>--</td>\n",
       "      <td>-1.0</td>\n",
       "      <td>1.45</td>\n",
       "      <td>...</td>\n",
       "      <td>0.375</td>\n",
       "      <td>1.990</td>\n",
       "      <td>0.045</td>\n",
       "      <td>2.468</td>\n",
       "      <td>1.45</td>\n",
       "      <td>1.590</td>\n",
       "      <td>1.266</td>\n",
       "      <td>1.915</td>\n",
       "      <td>1.016</td>\n",
       "      <td>2.171</td>\n",
       "    </tr>\n",
       "    <tr>\n",
       "      <th>41456</th>\n",
       "      <td>ALL_OPTIMIZED_PDFS_EGS_ID41457.pzd</td>\n",
       "      <td>41457</td>\n",
       "      <td>214.668002</td>\n",
       "      <td>52.769395</td>\n",
       "      <td>1.911</td>\n",
       "      <td>p</td>\n",
       "      <td>-1.0</td>\n",
       "      <td>--</td>\n",
       "      <td>-1.0</td>\n",
       "      <td>2.55</td>\n",
       "      <td>...</td>\n",
       "      <td>0.499</td>\n",
       "      <td>2.790</td>\n",
       "      <td>0.085</td>\n",
       "      <td>3.409</td>\n",
       "      <td>2.07</td>\n",
       "      <td>2.002</td>\n",
       "      <td>1.433</td>\n",
       "      <td>2.554</td>\n",
       "      <td>0.592</td>\n",
       "      <td>2.969</td>\n",
       "    </tr>\n",
       "  </tbody>\n",
       "</table>\n",
       "<p>15150 rows × 57 columns</p>\n",
       "</div>"
      ],
      "text/plain": [
       "                                    file      ID          RA        DEC  \\\n",
       "0      ALL_OPTIMIZED_PDFS_EGS_ID00001.pzd      1  215.301103  53.051246   \n",
       "6      ALL_OPTIMIZED_PDFS_EGS_ID00007.pzd      7  215.301035  53.051430   \n",
       "13     ALL_OPTIMIZED_PDFS_EGS_ID00014.pzd     14  215.299993  53.051383   \n",
       "15     ALL_OPTIMIZED_PDFS_EGS_ID00016.pzd     16  215.299495  53.051344   \n",
       "17     ALL_OPTIMIZED_PDFS_EGS_ID00018.pzd     18  215.293744  53.047429   \n",
       "...                                   ...    ...         ...        ...   \n",
       "41449  ALL_OPTIMIZED_PDFS_EGS_ID41450.pzd  41450  214.580315  52.721460   \n",
       "41452  ALL_OPTIMIZED_PDFS_EGS_ID41453.pzd  41453  214.586356  52.724939   \n",
       "41454  ALL_OPTIMIZED_PDFS_EGS_ID41455.pzd  41455  214.719359  52.819680   \n",
       "41455  ALL_OPTIMIZED_PDFS_EGS_ID41456.pzd  41456  214.887465  52.928631   \n",
       "41456  ALL_OPTIMIZED_PDFS_EGS_ID41457.pzd  41457  214.668002  52.769395   \n",
       "\n",
       "       z_best  z_best_type   z_spec  z_spec_ref   z_grism   mFDa4_z_peak   \\\n",
       "0        1.947            p     -1.0          --      -1.0           1.95   \n",
       "6        1.567            p     -1.0          --      -1.0           1.55   \n",
       "13       1.589            p     -1.0          --      -1.0           1.53   \n",
       "15       1.879            p     -1.0          --      -1.0           1.60   \n",
       "17       1.788            p     -1.0          --      -1.0           1.99   \n",
       "...        ...          ...      ...         ...       ...            ...   \n",
       "41449    1.702            p     -1.0          --      -1.0           1.50   \n",
       "41452    1.912            p     -1.0          --      -1.0           2.00   \n",
       "41454    2.078            p     -1.0          --      -1.0           1.74   \n",
       "41455    1.590            p     -1.0          --      -1.0           1.45   \n",
       "41456    1.911            p     -1.0          --      -1.0           2.55   \n",
       "\n",
       "       ...  Wiklind_z683_low   Wiklind_z683_high   Wiklind_z954_low   \\\n",
       "0      ...              1.683               2.204              1.536   \n",
       "6      ...              1.645               6.789              1.453   \n",
       "13     ...              0.443               2.734              0.036   \n",
       "15     ...              1.235               2.476              0.682   \n",
       "17     ...              1.805               2.188              1.633   \n",
       "...    ...                ...                 ...                ...   \n",
       "41449  ...              0.226               2.190              0.032   \n",
       "41452  ...              0.364               2.590              0.075   \n",
       "41454  ...              0.847               5.271              0.129   \n",
       "41455  ...              0.375               1.990              0.045   \n",
       "41456  ...              0.499               2.790              0.085   \n",
       "\n",
       "       Wiklind_z954_high   Wuyts_z_peak   Wuyts_z_weight   Wuyts_z683_low   \\\n",
       "0                   2.575           1.94            1.934            1.879   \n",
       "6                   9.641           1.50            1.522            1.432   \n",
       "13                  5.188           1.53            1.589            0.951   \n",
       "15                  2.945           1.19            1.435            1.006   \n",
       "17                  2.375           2.58            2.624            2.574   \n",
       "...                   ...            ...              ...              ...   \n",
       "41449               2.671           1.50            1.702            1.414   \n",
       "41452               2.862           2.00            1.912            1.528   \n",
       "41454               8.512           1.73            1.854            0.933   \n",
       "41455               2.468           1.45            1.590            1.266   \n",
       "41456               3.409           2.07            2.002            1.433   \n",
       "\n",
       "       Wuyts_z683_high   Wuyts_z954_low   Wuyts_z954_high  \n",
       "0                 1.968            1.492            2.002  \n",
       "6                 1.618            1.351            1.774  \n",
       "13                2.206            0.546            2.702  \n",
       "15                1.890            0.837            2.139  \n",
       "17                2.687            2.554            2.767  \n",
       "...                 ...              ...              ...  \n",
       "41449             2.022            1.176            2.361  \n",
       "41452             2.236            1.323            2.462  \n",
       "41454             2.875            0.335            4.201  \n",
       "41455             1.915            1.016            2.171  \n",
       "41456             2.554            0.592            2.969  \n",
       "\n",
       "[15150 rows x 57 columns]"
      ]
     },
     "execution_count": 11,
     "metadata": {},
     "output_type": "execute_result"
    }
   ],
   "source": [
    "cosmic_noon_phot = phot_data[(1.5<phot_data[\"z_best \"])& (phot_data[\"z_best \"]<2.5)]\n",
    "cosmic_noon_phot"
   ]
  },
  {
   "cell_type": "code",
   "execution_count": 12,
   "metadata": {},
   "outputs": [
    {
     "name": "stdout",
     "output_type": "stream",
     "text": [
      "{\n",
      "  \"Mass z=0.0-0.4\": \"Columns:57 Rows:4517\",\n",
      "  \"Photo z=0.0-0.4\": \"Columns:39 Rows:4517\",\n",
      "  \"Phys_prop z=0.0-0.4\": \"Columns:123 Rows:4517\",\n",
      "  \"Mass z=0.8-1.2\": \"Columns:57 Rows:4683\",\n",
      "  \"Photo z=0.8-1.2\": \"Columns:39 Rows:4683\",\n",
      "  \"Phys_prop z=0.8-1.2\": \"Columns:123 Rows:4683\",\n",
      "  \"Mass z=1.5-2.5\": \"Columns:57 Rows:15162\",\n",
      "  \"Photo z=1.5-2.5\": \"Columns:39 Rows:15162\",\n",
      "  \"Phys_prop z=1.5-2.5\": \"Columns:123 Rows:15162\"\n",
      "}\n"
     ]
    }
   ],
   "source": [
    "import json\n",
    "def filter_redsift(phot_data,mass_data,phys_prop_data,z =[(0.0,0.4),(0.8,1.2),(1.5,2.5)]):\n",
    "    db = {} # Creamos un diccionario vacío\n",
    "    # Usamos los valores de z para cada rango de z y así ver cuantos datos hay\n",
    "    for z_min, z_max in z:\n",
    "        a = phot_data[(z_min<=phot_data[\"z_best \"])& (phot_data[\"z_best \"]<=z_max)]\n",
    "        b = mass_data[(z_min<=phot_data[\"z_best \"])& (phot_data[\"z_best \"]<=z_max)]\n",
    "        c = phys_prop_data[(z_min<=phot_data[\"z_best \"])& (phot_data[\"z_best \"]<=z_max)]\n",
    "    \n",
    "        db['Mass z='+str(z_min)+'-'+str(z_max)]= f\"Columns:{a.shape[1]} Rows:{a.shape[0]}\" \n",
    "        db['Photo z='+str(z_min)+'-'+str(z_max)]= f\"Columns:{b.shape[1]} Rows:{b.shape[0]}\"\n",
    "        db['Phys_prop z='+str(z_min)+'-'+str(z_max)]= f\"Columns:{c.shape[1]} Rows:{c.shape[0]}\"\n",
    "        \n",
    "        \n",
    "        \n",
    "        \n",
    "        \n",
    "    \n",
    "    \n",
    "    return db\n",
    "\n",
    "db = filter_redsift(phot_data,mass_data,phys_prop_data)\n",
    "print(json.dumps(db,indent=2))"
   ]
  },
  {
   "cell_type": "code",
   "execution_count": 13,
   "metadata": {},
   "outputs": [],
   "source": [
    "def filter_redsift(z_min,z_max,phot_data,mass_data,phys_prop_data):\n",
    "    \"\"\" Esta función filtra los datos para un rango de valores de z. Teniendo en cuenta que los valores de z son diferentes \n",
    "    para datasets de Photometry y Mass y que Physical Properties no tiene este dato, por lo que el filtro consiste en que esté en unos de los otros dos datasets. \"\"\"\n",
    "    a = phot_data[(z_min<=phot_data[\"z_best \"])& (phot_data[\"z_best \"]<=z_max)]\n",
    "    b = mass_data[(z_min<=mass_data[\"zbestM \"])& (mass_data[\"zbestM \"]<=z_max)]\n",
    "    c = phys_prop_data[phys_prop_data[\"ID\"].isin(pd.concat([a[\"ID\"], b[\"ID\"]]).unique())]\n",
    "    return a, b, c\n",
    "\n",
    "cosmic_noon_phot, cosmic_noon_mass, cosmic_noon_phys_prop = filter_redsift(1.5,2.5,phot_data,mass_data,phys_prop_data)"
   ]
  },
  {
   "cell_type": "code",
   "execution_count": 14,
   "metadata": {},
   "outputs": [
    {
     "data": {
      "text/html": [
       "<div>\n",
       "<style scoped>\n",
       "    .dataframe tbody tr th:only-of-type {\n",
       "        vertical-align: middle;\n",
       "    }\n",
       "\n",
       "    .dataframe tbody tr th {\n",
       "        vertical-align: top;\n",
       "    }\n",
       "\n",
       "    .dataframe thead th {\n",
       "        text-align: right;\n",
       "    }\n",
       "</style>\n",
       "<table border=\"1\" class=\"dataframe\">\n",
       "  <thead>\n",
       "    <tr style=\"text-align: right;\">\n",
       "      <th></th>\n",
       "      <th>ID</th>\n",
       "      <th>age_2a_tau (dex(yr))</th>\n",
       "      <th>tau_2a_tau (Gyr)</th>\n",
       "      <th>Av_2a_tau (mag)</th>\n",
       "      <th>SFR_2a_tau (solMass/yr)</th>\n",
       "      <th>chi2_2a_tau</th>\n",
       "      <th>age_4b (dex(yr))</th>\n",
       "      <th>EBV_4b (mag)</th>\n",
       "      <th>age_6a_tau (dex(yr))</th>\n",
       "      <th>tau_6a_tau (Gyr)</th>\n",
       "      <th>...</th>\n",
       "      <th>age_14a_deltau (dex(yr))</th>\n",
       "      <th>tau_14a_deltau (Gyr)</th>\n",
       "      <th>EBV_14a_deltau (mag)</th>\n",
       "      <th>SFR_14a_deltau (solMass/yr)</th>\n",
       "      <th>q_14a_deltau</th>\n",
       "      <th>age_14a_tau (dex(yr))</th>\n",
       "      <th>tau_14a_tau (Gyr)</th>\n",
       "      <th>EBV_14a_tau (mag)</th>\n",
       "      <th>SFR_14a_tau (solMass/yr)</th>\n",
       "      <th>q_14a_tau</th>\n",
       "    </tr>\n",
       "  </thead>\n",
       "  <tbody>\n",
       "    <tr>\n",
       "      <th>0</th>\n",
       "      <td>1</td>\n",
       "      <td>7.6</td>\n",
       "      <td>12.589</td>\n",
       "      <td>3.2</td>\n",
       "      <td>102.30000</td>\n",
       "      <td>2.830</td>\n",
       "      <td>8.31</td>\n",
       "      <td>0.42</td>\n",
       "      <td>9.06</td>\n",
       "      <td>0.6</td>\n",
       "      <td>...</td>\n",
       "      <td>8.988</td>\n",
       "      <td>0.147</td>\n",
       "      <td>0.196</td>\n",
       "      <td>1.2430</td>\n",
       "      <td>2</td>\n",
       "      <td>8.888</td>\n",
       "      <td>0.146</td>\n",
       "      <td>0.217</td>\n",
       "      <td>0.67120</td>\n",
       "      <td>2</td>\n",
       "    </tr>\n",
       "    <tr>\n",
       "      <th>6</th>\n",
       "      <td>7</td>\n",
       "      <td>9.3</td>\n",
       "      <td>0.316</td>\n",
       "      <td>0.0</td>\n",
       "      <td>0.03802</td>\n",
       "      <td>1.610</td>\n",
       "      <td>9.48</td>\n",
       "      <td>0.06</td>\n",
       "      <td>9.36</td>\n",
       "      <td>0.1</td>\n",
       "      <td>...</td>\n",
       "      <td>9.005</td>\n",
       "      <td>0.143</td>\n",
       "      <td>0.029</td>\n",
       "      <td>0.2839</td>\n",
       "      <td>2</td>\n",
       "      <td>9.023</td>\n",
       "      <td>0.160</td>\n",
       "      <td>0.027</td>\n",
       "      <td>0.06461</td>\n",
       "      <td>2</td>\n",
       "    </tr>\n",
       "    <tr>\n",
       "      <th>13</th>\n",
       "      <td>14</td>\n",
       "      <td>9.9</td>\n",
       "      <td>1.995</td>\n",
       "      <td>1.1</td>\n",
       "      <td>0.01000</td>\n",
       "      <td>0.514</td>\n",
       "      <td>9.90</td>\n",
       "      <td>0.06</td>\n",
       "      <td>7.10</td>\n",
       "      <td>5.0</td>\n",
       "      <td>...</td>\n",
       "      <td>8.709</td>\n",
       "      <td>0.366</td>\n",
       "      <td>0.575</td>\n",
       "      <td>0.3728</td>\n",
       "      <td>1</td>\n",
       "      <td>8.741</td>\n",
       "      <td>0.663</td>\n",
       "      <td>0.552</td>\n",
       "      <td>0.22920</td>\n",
       "      <td>1</td>\n",
       "    </tr>\n",
       "    <tr>\n",
       "      <th>15</th>\n",
       "      <td>16</td>\n",
       "      <td>7.9</td>\n",
       "      <td>0.794</td>\n",
       "      <td>1.8</td>\n",
       "      <td>21.38000</td>\n",
       "      <td>0.981</td>\n",
       "      <td>7.30</td>\n",
       "      <td>0.42</td>\n",
       "      <td>9.34</td>\n",
       "      <td>15.0</td>\n",
       "      <td>...</td>\n",
       "      <td>8.732</td>\n",
       "      <td>0.662</td>\n",
       "      <td>0.347</td>\n",
       "      <td>10.1800</td>\n",
       "      <td>1</td>\n",
       "      <td>8.571</td>\n",
       "      <td>0.773</td>\n",
       "      <td>0.332</td>\n",
       "      <td>7.86300</td>\n",
       "      <td>1</td>\n",
       "    </tr>\n",
       "    <tr>\n",
       "      <th>17</th>\n",
       "      <td>18</td>\n",
       "      <td>7.6</td>\n",
       "      <td>0.316</td>\n",
       "      <td>2.0</td>\n",
       "      <td>112.20000</td>\n",
       "      <td>32.700</td>\n",
       "      <td>7.00</td>\n",
       "      <td>0.39</td>\n",
       "      <td>7.50</td>\n",
       "      <td>2.0</td>\n",
       "      <td>...</td>\n",
       "      <td>8.130</td>\n",
       "      <td>0.179</td>\n",
       "      <td>0.478</td>\n",
       "      <td>78.7400</td>\n",
       "      <td>1</td>\n",
       "      <td>8.054</td>\n",
       "      <td>0.721</td>\n",
       "      <td>0.468</td>\n",
       "      <td>64.22000</td>\n",
       "      <td>1</td>\n",
       "    </tr>\n",
       "  </tbody>\n",
       "</table>\n",
       "<p>5 rows × 123 columns</p>\n",
       "</div>"
      ],
      "text/plain": [
       "    ID  age_2a_tau (dex(yr))  tau_2a_tau (Gyr)  Av_2a_tau (mag)  \\\n",
       "0    1                   7.6            12.589              3.2   \n",
       "6    7                   9.3             0.316              0.0   \n",
       "13  14                   9.9             1.995              1.1   \n",
       "15  16                   7.9             0.794              1.8   \n",
       "17  18                   7.6             0.316              2.0   \n",
       "\n",
       "    SFR_2a_tau (solMass/yr)  chi2_2a_tau   age_4b (dex(yr))  EBV_4b (mag)  \\\n",
       "0                 102.30000         2.830              8.31          0.42   \n",
       "6                   0.03802         1.610              9.48          0.06   \n",
       "13                  0.01000         0.514              9.90          0.06   \n",
       "15                 21.38000         0.981              7.30          0.42   \n",
       "17                112.20000        32.700              7.00          0.39   \n",
       "\n",
       "    age_6a_tau (dex(yr))  tau_6a_tau (Gyr)  ...  age_14a_deltau (dex(yr))  \\\n",
       "0                   9.06               0.6  ...                     8.988   \n",
       "6                   9.36               0.1  ...                     9.005   \n",
       "13                  7.10               5.0  ...                     8.709   \n",
       "15                  9.34              15.0  ...                     8.732   \n",
       "17                  7.50               2.0  ...                     8.130   \n",
       "\n",
       "    tau_14a_deltau (Gyr)  EBV_14a_deltau (mag)  SFR_14a_deltau (solMass/yr)  \\\n",
       "0                  0.147                 0.196                       1.2430   \n",
       "6                  0.143                 0.029                       0.2839   \n",
       "13                 0.366                 0.575                       0.3728   \n",
       "15                 0.662                 0.347                      10.1800   \n",
       "17                 0.179                 0.478                      78.7400   \n",
       "\n",
       "    q_14a_deltau   age_14a_tau (dex(yr))  tau_14a_tau (Gyr)  \\\n",
       "0               2                  8.888              0.146   \n",
       "6               2                  9.023              0.160   \n",
       "13              1                  8.741              0.663   \n",
       "15              1                  8.571              0.773   \n",
       "17              1                  8.054              0.721   \n",
       "\n",
       "    EBV_14a_tau (mag)  SFR_14a_tau (solMass/yr)  q_14a_tau   \n",
       "0               0.217                   0.67120           2  \n",
       "6               0.027                   0.06461           2  \n",
       "13              0.552                   0.22920           1  \n",
       "15              0.332                   7.86300           1  \n",
       "17              0.468                  64.22000           1  \n",
       "\n",
       "[5 rows x 123 columns]"
      ]
     },
     "execution_count": 14,
     "metadata": {},
     "output_type": "execute_result"
    }
   ],
   "source": [
    "cosmic_noon_phys_prop.head()"
   ]
  },
  {
   "cell_type": "markdown",
   "metadata": {},
   "source": [
    "Ahora vamos a juntarlos todos en un solo dataframe, dado que los datos de fotometría y masa son diferentes entre si, queremos quedarnos con las galaxias que estén dentro de los rangos de redshift, y que se encuentren en ambos datasets. Cuando comparemos medidas de fotometría y masa habrá que usar el redshift correspondiente de cada dataset.\n",
    "\n",
    "En segundo lugar, nos quedamos con las propiedades físicas de de las galaxias que están ahí dentro de los rangos de redshift, y que se encuentren en ambos datasets. Esto nos permitirá comparar las propiedades físicas de las galaxias en ambos datasets.\n",
    "\n",
    "#### A todo esto, se ha asumido que el campo de ID es el mismo y unequivoco en todos los datasets.\n",
    "\n"
   ]
  },
  {
   "cell_type": "code",
   "execution_count": 15,
   "metadata": {},
   "outputs": [
    {
     "data": {
      "text/html": [
       "<div>\n",
       "<style scoped>\n",
       "    .dataframe tbody tr th:only-of-type {\n",
       "        vertical-align: middle;\n",
       "    }\n",
       "\n",
       "    .dataframe tbody tr th {\n",
       "        vertical-align: top;\n",
       "    }\n",
       "\n",
       "    .dataframe thead th {\n",
       "        text-align: right;\n",
       "    }\n",
       "</style>\n",
       "<table border=\"1\" class=\"dataframe\">\n",
       "  <thead>\n",
       "    <tr style=\"text-align: right;\">\n",
       "      <th></th>\n",
       "      <th>ID</th>\n",
       "      <th>age_2a_tau (dex(yr))</th>\n",
       "      <th>tau_2a_tau (Gyr)</th>\n",
       "      <th>Av_2a_tau (mag)</th>\n",
       "      <th>SFR_2a_tau (solMass/yr)</th>\n",
       "      <th>chi2_2a_tau</th>\n",
       "      <th>age_4b (dex(yr))</th>\n",
       "      <th>EBV_4b (mag)</th>\n",
       "      <th>age_6a_tau (dex(yr))</th>\n",
       "      <th>tau_6a_tau (Gyr)</th>\n",
       "      <th>...</th>\n",
       "      <th>M_10c (dex(solMass))</th>\n",
       "      <th>M_14a_lin (dex(solMass))</th>\n",
       "      <th>M_14a_deltau (dex(solMass))</th>\n",
       "      <th>M_14a_tau (dex(solMass))</th>\n",
       "      <th>M_14a_inctau (dex(solMass))</th>\n",
       "      <th>M_14a (dex(solMass))</th>\n",
       "      <th>M_neb_med_lin (solMass)</th>\n",
       "      <th>s_neb_med_lin (solMass)</th>\n",
       "      <th>M_med_lin (solMass)</th>\n",
       "      <th>s_med_lin (solMass)</th>\n",
       "    </tr>\n",
       "  </thead>\n",
       "  <tbody>\n",
       "    <tr>\n",
       "      <th>0</th>\n",
       "      <td>1</td>\n",
       "      <td>7.6</td>\n",
       "      <td>12.589</td>\n",
       "      <td>3.2</td>\n",
       "      <td>102.30000</td>\n",
       "      <td>2.830</td>\n",
       "      <td>8.31</td>\n",
       "      <td>0.42</td>\n",
       "      <td>9.06</td>\n",
       "      <td>0.6</td>\n",
       "      <td>...</td>\n",
       "      <td>10.18</td>\n",
       "      <td>10.30</td>\n",
       "      <td>10.10</td>\n",
       "      <td>10.09</td>\n",
       "      <td>10.28</td>\n",
       "      <td>10.10</td>\n",
       "      <td>10.10</td>\n",
       "      <td>0.2120</td>\n",
       "      <td>10.00</td>\n",
       "      <td>0.1080</td>\n",
       "    </tr>\n",
       "    <tr>\n",
       "      <th>1</th>\n",
       "      <td>7</td>\n",
       "      <td>9.3</td>\n",
       "      <td>0.316</td>\n",
       "      <td>0.0</td>\n",
       "      <td>0.03802</td>\n",
       "      <td>1.610</td>\n",
       "      <td>9.48</td>\n",
       "      <td>0.06</td>\n",
       "      <td>9.36</td>\n",
       "      <td>0.1</td>\n",
       "      <td>...</td>\n",
       "      <td>10.15</td>\n",
       "      <td>9.69</td>\n",
       "      <td>9.62</td>\n",
       "      <td>9.66</td>\n",
       "      <td>9.74</td>\n",
       "      <td>9.62</td>\n",
       "      <td>9.68</td>\n",
       "      <td>0.1230</td>\n",
       "      <td>9.69</td>\n",
       "      <td>0.0694</td>\n",
       "    </tr>\n",
       "    <tr>\n",
       "      <th>2</th>\n",
       "      <td>16</td>\n",
       "      <td>7.9</td>\n",
       "      <td>0.794</td>\n",
       "      <td>1.8</td>\n",
       "      <td>21.38000</td>\n",
       "      <td>0.981</td>\n",
       "      <td>7.30</td>\n",
       "      <td>0.42</td>\n",
       "      <td>9.34</td>\n",
       "      <td>15.0</td>\n",
       "      <td>...</td>\n",
       "      <td>9.37</td>\n",
       "      <td>9.39</td>\n",
       "      <td>9.41</td>\n",
       "      <td>9.42</td>\n",
       "      <td>9.40</td>\n",
       "      <td>9.44</td>\n",
       "      <td>9.74</td>\n",
       "      <td>0.1680</td>\n",
       "      <td>9.43</td>\n",
       "      <td>0.1090</td>\n",
       "    </tr>\n",
       "    <tr>\n",
       "      <th>3</th>\n",
       "      <td>18</td>\n",
       "      <td>7.6</td>\n",
       "      <td>0.316</td>\n",
       "      <td>2.0</td>\n",
       "      <td>112.20000</td>\n",
       "      <td>32.700</td>\n",
       "      <td>7.00</td>\n",
       "      <td>0.39</td>\n",
       "      <td>7.50</td>\n",
       "      <td>2.0</td>\n",
       "      <td>...</td>\n",
       "      <td>10.09</td>\n",
       "      <td>9.75</td>\n",
       "      <td>9.74</td>\n",
       "      <td>9.79</td>\n",
       "      <td>9.77</td>\n",
       "      <td>9.77</td>\n",
       "      <td>9.77</td>\n",
       "      <td>0.2400</td>\n",
       "      <td>9.45</td>\n",
       "      <td>0.3840</td>\n",
       "    </tr>\n",
       "    <tr>\n",
       "      <th>4</th>\n",
       "      <td>19</td>\n",
       "      <td>8.9</td>\n",
       "      <td>0.316</td>\n",
       "      <td>1.4</td>\n",
       "      <td>11.48000</td>\n",
       "      <td>3.000</td>\n",
       "      <td>8.61</td>\n",
       "      <td>0.30</td>\n",
       "      <td>8.90</td>\n",
       "      <td>0.3</td>\n",
       "      <td>...</td>\n",
       "      <td>10.21</td>\n",
       "      <td>10.29</td>\n",
       "      <td>10.43</td>\n",
       "      <td>10.36</td>\n",
       "      <td>10.35</td>\n",
       "      <td>10.36</td>\n",
       "      <td>10.40</td>\n",
       "      <td>0.0690</td>\n",
       "      <td>10.40</td>\n",
       "      <td>0.3580</td>\n",
       "    </tr>\n",
       "    <tr>\n",
       "      <th>5</th>\n",
       "      <td>20</td>\n",
       "      <td>7.6</td>\n",
       "      <td>12.589</td>\n",
       "      <td>0.6</td>\n",
       "      <td>3.80200</td>\n",
       "      <td>7.020</td>\n",
       "      <td>7.00</td>\n",
       "      <td>0.18</td>\n",
       "      <td>8.50</td>\n",
       "      <td>0.3</td>\n",
       "      <td>...</td>\n",
       "      <td>8.51</td>\n",
       "      <td>8.32</td>\n",
       "      <td>8.32</td>\n",
       "      <td>8.43</td>\n",
       "      <td>8.40</td>\n",
       "      <td>8.32</td>\n",
       "      <td>8.28</td>\n",
       "      <td>0.3090</td>\n",
       "      <td>8.52</td>\n",
       "      <td>0.1920</td>\n",
       "    </tr>\n",
       "    <tr>\n",
       "      <th>6</th>\n",
       "      <td>21</td>\n",
       "      <td>8.9</td>\n",
       "      <td>0.316</td>\n",
       "      <td>0.4</td>\n",
       "      <td>0.54950</td>\n",
       "      <td>1.720</td>\n",
       "      <td>7.00</td>\n",
       "      <td>0.36</td>\n",
       "      <td>8.80</td>\n",
       "      <td>0.3</td>\n",
       "      <td>...</td>\n",
       "      <td>8.81</td>\n",
       "      <td>8.48</td>\n",
       "      <td>8.49</td>\n",
       "      <td>8.59</td>\n",
       "      <td>8.54</td>\n",
       "      <td>8.48</td>\n",
       "      <td>8.52</td>\n",
       "      <td>0.3630</td>\n",
       "      <td>8.75</td>\n",
       "      <td>0.5480</td>\n",
       "    </tr>\n",
       "    <tr>\n",
       "      <th>7</th>\n",
       "      <td>23</td>\n",
       "      <td>8.6</td>\n",
       "      <td>0.316</td>\n",
       "      <td>0.8</td>\n",
       "      <td>1.69800</td>\n",
       "      <td>0.530</td>\n",
       "      <td>8.01</td>\n",
       "      <td>0.39</td>\n",
       "      <td>8.90</td>\n",
       "      <td>0.6</td>\n",
       "      <td>...</td>\n",
       "      <td>8.80</td>\n",
       "      <td>8.75</td>\n",
       "      <td>8.79</td>\n",
       "      <td>8.84</td>\n",
       "      <td>8.79</td>\n",
       "      <td>8.84</td>\n",
       "      <td>8.87</td>\n",
       "      <td>0.0298</td>\n",
       "      <td>8.94</td>\n",
       "      <td>0.0977</td>\n",
       "    </tr>\n",
       "    <tr>\n",
       "      <th>8</th>\n",
       "      <td>40</td>\n",
       "      <td>8.9</td>\n",
       "      <td>0.316</td>\n",
       "      <td>0.6</td>\n",
       "      <td>2.23900</td>\n",
       "      <td>0.823</td>\n",
       "      <td>8.46</td>\n",
       "      <td>0.24</td>\n",
       "      <td>9.28</td>\n",
       "      <td>1.0</td>\n",
       "      <td>...</td>\n",
       "      <td>9.47</td>\n",
       "      <td>9.48</td>\n",
       "      <td>9.59</td>\n",
       "      <td>9.61</td>\n",
       "      <td>9.52</td>\n",
       "      <td>9.61</td>\n",
       "      <td>9.68</td>\n",
       "      <td>0.0866</td>\n",
       "      <td>9.71</td>\n",
       "      <td>0.2850</td>\n",
       "    </tr>\n",
       "    <tr>\n",
       "      <th>9</th>\n",
       "      <td>42</td>\n",
       "      <td>8.5</td>\n",
       "      <td>0.501</td>\n",
       "      <td>0.6</td>\n",
       "      <td>5.01200</td>\n",
       "      <td>1.170</td>\n",
       "      <td>7.00</td>\n",
       "      <td>0.27</td>\n",
       "      <td>8.50</td>\n",
       "      <td>15.0</td>\n",
       "      <td>...</td>\n",
       "      <td>8.89</td>\n",
       "      <td>8.50</td>\n",
       "      <td>8.51</td>\n",
       "      <td>8.63</td>\n",
       "      <td>8.58</td>\n",
       "      <td>8.50</td>\n",
       "      <td>8.37</td>\n",
       "      <td>0.5520</td>\n",
       "      <td>8.86</td>\n",
       "      <td>0.3320</td>\n",
       "    </tr>\n",
       "  </tbody>\n",
       "</table>\n",
       "<p>10 rows × 217 columns</p>\n",
       "</div>"
      ],
      "text/plain": [
       "   ID  age_2a_tau (dex(yr))  tau_2a_tau (Gyr)  Av_2a_tau (mag)  \\\n",
       "0   1                   7.6            12.589              3.2   \n",
       "1   7                   9.3             0.316              0.0   \n",
       "2  16                   7.9             0.794              1.8   \n",
       "3  18                   7.6             0.316              2.0   \n",
       "4  19                   8.9             0.316              1.4   \n",
       "5  20                   7.6            12.589              0.6   \n",
       "6  21                   8.9             0.316              0.4   \n",
       "7  23                   8.6             0.316              0.8   \n",
       "8  40                   8.9             0.316              0.6   \n",
       "9  42                   8.5             0.501              0.6   \n",
       "\n",
       "   SFR_2a_tau (solMass/yr)  chi2_2a_tau   age_4b (dex(yr))  EBV_4b (mag)  \\\n",
       "0                102.30000         2.830              8.31          0.42   \n",
       "1                  0.03802         1.610              9.48          0.06   \n",
       "2                 21.38000         0.981              7.30          0.42   \n",
       "3                112.20000        32.700              7.00          0.39   \n",
       "4                 11.48000         3.000              8.61          0.30   \n",
       "5                  3.80200         7.020              7.00          0.18   \n",
       "6                  0.54950         1.720              7.00          0.36   \n",
       "7                  1.69800         0.530              8.01          0.39   \n",
       "8                  2.23900         0.823              8.46          0.24   \n",
       "9                  5.01200         1.170              7.00          0.27   \n",
       "\n",
       "   age_6a_tau (dex(yr))  tau_6a_tau (Gyr)  ...  M_10c (dex(solMass))   \\\n",
       "0                  9.06               0.6  ...                  10.18   \n",
       "1                  9.36               0.1  ...                  10.15   \n",
       "2                  9.34              15.0  ...                   9.37   \n",
       "3                  7.50               2.0  ...                  10.09   \n",
       "4                  8.90               0.3  ...                  10.21   \n",
       "5                  8.50               0.3  ...                   8.51   \n",
       "6                  8.80               0.3  ...                   8.81   \n",
       "7                  8.90               0.6  ...                   8.80   \n",
       "8                  9.28               1.0  ...                   9.47   \n",
       "9                  8.50              15.0  ...                   8.89   \n",
       "\n",
       "   M_14a_lin (dex(solMass))   M_14a_deltau (dex(solMass))   \\\n",
       "0                      10.30                         10.10   \n",
       "1                       9.69                          9.62   \n",
       "2                       9.39                          9.41   \n",
       "3                       9.75                          9.74   \n",
       "4                      10.29                         10.43   \n",
       "5                       8.32                          8.32   \n",
       "6                       8.48                          8.49   \n",
       "7                       8.75                          8.79   \n",
       "8                       9.48                          9.59   \n",
       "9                       8.50                          8.51   \n",
       "\n",
       "   M_14a_tau (dex(solMass))   M_14a_inctau (dex(solMass))   \\\n",
       "0                      10.09                         10.28   \n",
       "1                       9.66                          9.74   \n",
       "2                       9.42                          9.40   \n",
       "3                       9.79                          9.77   \n",
       "4                      10.36                         10.35   \n",
       "5                       8.43                          8.40   \n",
       "6                       8.59                          8.54   \n",
       "7                       8.84                          8.79   \n",
       "8                       9.61                          9.52   \n",
       "9                       8.63                          8.58   \n",
       "\n",
       "   M_14a (dex(solMass))   M_neb_med_lin (solMass)   s_neb_med_lin (solMass)   \\\n",
       "0                  10.10                     10.10                    0.2120   \n",
       "1                   9.62                      9.68                    0.1230   \n",
       "2                   9.44                      9.74                    0.1680   \n",
       "3                   9.77                      9.77                    0.2400   \n",
       "4                  10.36                     10.40                    0.0690   \n",
       "5                   8.32                      8.28                    0.3090   \n",
       "6                   8.48                      8.52                    0.3630   \n",
       "7                   8.84                      8.87                    0.0298   \n",
       "8                   9.61                      9.68                    0.0866   \n",
       "9                   8.50                      8.37                    0.5520   \n",
       "\n",
       "   M_med_lin (solMass)   s_med_lin (solMass)  \n",
       "0                 10.00               0.1080  \n",
       "1                  9.69               0.0694  \n",
       "2                  9.43               0.1090  \n",
       "3                  9.45               0.3840  \n",
       "4                 10.40               0.3580  \n",
       "5                  8.52               0.1920  \n",
       "6                  8.75               0.5480  \n",
       "7                  8.94               0.0977  \n",
       "8                  9.71               0.2850  \n",
       "9                  8.86               0.3320  \n",
       "\n",
       "[10 rows x 217 columns]"
      ]
     },
     "execution_count": 15,
     "metadata": {},
     "output_type": "execute_result"
    }
   ],
   "source": [
    "merged1 = pd.merge(cosmic_noon_phot,cosmic_noon_mass, left_on = 'ID', right_on = 'ID', how = 'inner')\n",
    "\n",
    "merged2 = pd.merge(cosmic_noon_phys_prop,merged1, left_on = 'ID', right_on = 'ID', how = 'inner')\n",
    "\n",
    "merged2.head(10)"
   ]
  },
  {
   "cell_type": "code",
   "execution_count": 16,
   "metadata": {},
   "outputs": [
    {
     "data": {
      "text/html": [
       "<div>\n",
       "<style scoped>\n",
       "    .dataframe tbody tr th:only-of-type {\n",
       "        vertical-align: middle;\n",
       "    }\n",
       "\n",
       "    .dataframe tbody tr th {\n",
       "        vertical-align: top;\n",
       "    }\n",
       "\n",
       "    .dataframe thead th {\n",
       "        text-align: right;\n",
       "    }\n",
       "</style>\n",
       "<table border=\"1\" class=\"dataframe\">\n",
       "  <thead>\n",
       "    <tr style=\"text-align: right;\">\n",
       "      <th></th>\n",
       "      <th>ID</th>\n",
       "      <th>age_2a_tau (dex(yr))</th>\n",
       "      <th>tau_2a_tau (Gyr)</th>\n",
       "      <th>Av_2a_tau (mag)</th>\n",
       "      <th>SFR_2a_tau (solMass/yr)</th>\n",
       "      <th>chi2_2a_tau</th>\n",
       "      <th>age_4b (dex(yr))</th>\n",
       "      <th>EBV_4b (mag)</th>\n",
       "      <th>age_6a_tau (dex(yr))</th>\n",
       "      <th>tau_6a_tau (Gyr)</th>\n",
       "      <th>...</th>\n",
       "      <th>M_10c (dex(solMass))</th>\n",
       "      <th>M_14a_lin (dex(solMass))</th>\n",
       "      <th>M_14a_deltau (dex(solMass))</th>\n",
       "      <th>M_14a_tau (dex(solMass))</th>\n",
       "      <th>M_14a_inctau (dex(solMass))</th>\n",
       "      <th>M_14a (dex(solMass))</th>\n",
       "      <th>M_neb_med_lin (solMass)</th>\n",
       "      <th>s_neb_med_lin (solMass)</th>\n",
       "      <th>M_med_lin (solMass)</th>\n",
       "      <th>s_med_lin (solMass)</th>\n",
       "    </tr>\n",
       "  </thead>\n",
       "  <tbody>\n",
       "    <tr>\n",
       "      <th>0</th>\n",
       "      <td>1</td>\n",
       "      <td>7.6</td>\n",
       "      <td>12.589</td>\n",
       "      <td>3.2</td>\n",
       "      <td>102.30000</td>\n",
       "      <td>2.830</td>\n",
       "      <td>8.31</td>\n",
       "      <td>0.42</td>\n",
       "      <td>9.06</td>\n",
       "      <td>0.6</td>\n",
       "      <td>...</td>\n",
       "      <td>10.18</td>\n",
       "      <td>10.30</td>\n",
       "      <td>10.10</td>\n",
       "      <td>10.09</td>\n",
       "      <td>10.28</td>\n",
       "      <td>10.10</td>\n",
       "      <td>10.10</td>\n",
       "      <td>0.212</td>\n",
       "      <td>10.00</td>\n",
       "      <td>0.1080</td>\n",
       "    </tr>\n",
       "    <tr>\n",
       "      <th>1</th>\n",
       "      <td>7</td>\n",
       "      <td>9.3</td>\n",
       "      <td>0.316</td>\n",
       "      <td>0.0</td>\n",
       "      <td>0.03802</td>\n",
       "      <td>1.610</td>\n",
       "      <td>9.48</td>\n",
       "      <td>0.06</td>\n",
       "      <td>9.36</td>\n",
       "      <td>0.1</td>\n",
       "      <td>...</td>\n",
       "      <td>10.15</td>\n",
       "      <td>9.69</td>\n",
       "      <td>9.62</td>\n",
       "      <td>9.66</td>\n",
       "      <td>9.74</td>\n",
       "      <td>9.62</td>\n",
       "      <td>9.68</td>\n",
       "      <td>0.123</td>\n",
       "      <td>9.69</td>\n",
       "      <td>0.0694</td>\n",
       "    </tr>\n",
       "    <tr>\n",
       "      <th>2</th>\n",
       "      <td>16</td>\n",
       "      <td>7.9</td>\n",
       "      <td>0.794</td>\n",
       "      <td>1.8</td>\n",
       "      <td>21.38000</td>\n",
       "      <td>0.981</td>\n",
       "      <td>7.30</td>\n",
       "      <td>0.42</td>\n",
       "      <td>9.34</td>\n",
       "      <td>15.0</td>\n",
       "      <td>...</td>\n",
       "      <td>9.37</td>\n",
       "      <td>9.39</td>\n",
       "      <td>9.41</td>\n",
       "      <td>9.42</td>\n",
       "      <td>9.40</td>\n",
       "      <td>9.44</td>\n",
       "      <td>9.74</td>\n",
       "      <td>0.168</td>\n",
       "      <td>9.43</td>\n",
       "      <td>0.1090</td>\n",
       "    </tr>\n",
       "    <tr>\n",
       "      <th>3</th>\n",
       "      <td>18</td>\n",
       "      <td>7.6</td>\n",
       "      <td>0.316</td>\n",
       "      <td>2.0</td>\n",
       "      <td>112.20000</td>\n",
       "      <td>32.700</td>\n",
       "      <td>7.00</td>\n",
       "      <td>0.39</td>\n",
       "      <td>7.50</td>\n",
       "      <td>2.0</td>\n",
       "      <td>...</td>\n",
       "      <td>10.09</td>\n",
       "      <td>9.75</td>\n",
       "      <td>9.74</td>\n",
       "      <td>9.79</td>\n",
       "      <td>9.77</td>\n",
       "      <td>9.77</td>\n",
       "      <td>9.77</td>\n",
       "      <td>0.240</td>\n",
       "      <td>9.45</td>\n",
       "      <td>0.3840</td>\n",
       "    </tr>\n",
       "    <tr>\n",
       "      <th>4</th>\n",
       "      <td>19</td>\n",
       "      <td>8.9</td>\n",
       "      <td>0.316</td>\n",
       "      <td>1.4</td>\n",
       "      <td>11.48000</td>\n",
       "      <td>3.000</td>\n",
       "      <td>8.61</td>\n",
       "      <td>0.30</td>\n",
       "      <td>8.90</td>\n",
       "      <td>0.3</td>\n",
       "      <td>...</td>\n",
       "      <td>10.21</td>\n",
       "      <td>10.29</td>\n",
       "      <td>10.43</td>\n",
       "      <td>10.36</td>\n",
       "      <td>10.35</td>\n",
       "      <td>10.36</td>\n",
       "      <td>10.40</td>\n",
       "      <td>0.069</td>\n",
       "      <td>10.40</td>\n",
       "      <td>0.3580</td>\n",
       "    </tr>\n",
       "  </tbody>\n",
       "</table>\n",
       "<p>5 rows × 217 columns</p>\n",
       "</div>"
      ],
      "text/plain": [
       "   ID  age_2a_tau (dex(yr))  tau_2a_tau (Gyr)  Av_2a_tau (mag)  \\\n",
       "0   1                   7.6            12.589              3.2   \n",
       "1   7                   9.3             0.316              0.0   \n",
       "2  16                   7.9             0.794              1.8   \n",
       "3  18                   7.6             0.316              2.0   \n",
       "4  19                   8.9             0.316              1.4   \n",
       "\n",
       "   SFR_2a_tau (solMass/yr)  chi2_2a_tau   age_4b (dex(yr))  EBV_4b (mag)  \\\n",
       "0                102.30000         2.830              8.31          0.42   \n",
       "1                  0.03802         1.610              9.48          0.06   \n",
       "2                 21.38000         0.981              7.30          0.42   \n",
       "3                112.20000        32.700              7.00          0.39   \n",
       "4                 11.48000         3.000              8.61          0.30   \n",
       "\n",
       "   age_6a_tau (dex(yr))  tau_6a_tau (Gyr)  ...  M_10c (dex(solMass))   \\\n",
       "0                  9.06               0.6  ...                  10.18   \n",
       "1                  9.36               0.1  ...                  10.15   \n",
       "2                  9.34              15.0  ...                   9.37   \n",
       "3                  7.50               2.0  ...                  10.09   \n",
       "4                  8.90               0.3  ...                  10.21   \n",
       "\n",
       "   M_14a_lin (dex(solMass))   M_14a_deltau (dex(solMass))   \\\n",
       "0                      10.30                         10.10   \n",
       "1                       9.69                          9.62   \n",
       "2                       9.39                          9.41   \n",
       "3                       9.75                          9.74   \n",
       "4                      10.29                         10.43   \n",
       "\n",
       "   M_14a_tau (dex(solMass))   M_14a_inctau (dex(solMass))   \\\n",
       "0                      10.09                         10.28   \n",
       "1                       9.66                          9.74   \n",
       "2                       9.42                          9.40   \n",
       "3                       9.79                          9.77   \n",
       "4                      10.36                         10.35   \n",
       "\n",
       "   M_14a (dex(solMass))   M_neb_med_lin (solMass)   s_neb_med_lin (solMass)   \\\n",
       "0                  10.10                     10.10                     0.212   \n",
       "1                   9.62                      9.68                     0.123   \n",
       "2                   9.44                      9.74                     0.168   \n",
       "3                   9.77                      9.77                     0.240   \n",
       "4                  10.36                     10.40                     0.069   \n",
       "\n",
       "   M_med_lin (solMass)   s_med_lin (solMass)  \n",
       "0                 10.00               0.1080  \n",
       "1                  9.69               0.0694  \n",
       "2                  9.43               0.1090  \n",
       "3                  9.45               0.3840  \n",
       "4                 10.40               0.3580  \n",
       "\n",
       "[5 rows x 217 columns]"
      ]
     },
     "execution_count": 16,
     "metadata": {},
     "output_type": "execute_result"
    }
   ],
   "source": [
    "# Ahora eliminimaos aquellas galaxias que tienen un AGN, ya que son pocas y no podemos comparar su comportamiento con el de otras que no tienen AGN.\n",
    "value_to_drop = 1\n",
    "column_name = 'AGNflag '\n",
    "\n",
    "\n",
    "df_cleaned = merged2.drop(merged2[merged2[column_name] == value_to_drop].index)\n",
    "\n",
    "df_cleaned.head()\n"
   ]
  },
  {
   "cell_type": "markdown",
   "metadata": {},
   "source": [
    "Ahora solo nos quedan 217 columnas, por lo que habrá que ver cuales se repiten y cuales tienen un sentido físico propio y útil para el análisis."
   ]
  },
  {
   "cell_type": "code",
   "execution_count": 17,
   "metadata": {},
   "outputs": [
    {
     "data": {
      "text/html": [
       "<div>\n",
       "<style scoped>\n",
       "    .dataframe tbody tr th:only-of-type {\n",
       "        vertical-align: middle;\n",
       "    }\n",
       "\n",
       "    .dataframe tbody tr th {\n",
       "        vertical-align: top;\n",
       "    }\n",
       "\n",
       "    .dataframe thead th {\n",
       "        text-align: right;\n",
       "    }\n",
       "</style>\n",
       "<table border=\"1\" class=\"dataframe\">\n",
       "  <thead>\n",
       "    <tr style=\"text-align: right;\">\n",
       "      <th></th>\n",
       "      <th>z_best</th>\n",
       "      <th>zbestM</th>\n",
       "    </tr>\n",
       "  </thead>\n",
       "  <tbody>\n",
       "    <tr>\n",
       "      <th>0</th>\n",
       "      <td>1.947</td>\n",
       "      <td>1.700</td>\n",
       "    </tr>\n",
       "    <tr>\n",
       "      <th>1</th>\n",
       "      <td>1.567</td>\n",
       "      <td>1.611</td>\n",
       "    </tr>\n",
       "    <tr>\n",
       "      <th>2</th>\n",
       "      <td>1.879</td>\n",
       "      <td>1.673</td>\n",
       "    </tr>\n",
       "    <tr>\n",
       "      <th>3</th>\n",
       "      <td>1.788</td>\n",
       "      <td>1.987</td>\n",
       "    </tr>\n",
       "    <tr>\n",
       "      <th>4</th>\n",
       "      <td>1.750</td>\n",
       "      <td>1.762</td>\n",
       "    </tr>\n",
       "  </tbody>\n",
       "</table>\n",
       "</div>"
      ],
      "text/plain": [
       "   z_best   zbestM \n",
       "0    1.947    1.700\n",
       "1    1.567    1.611\n",
       "2    1.879    1.673\n",
       "3    1.788    1.987\n",
       "4    1.750    1.762"
      ]
     },
     "execution_count": 17,
     "metadata": {},
     "output_type": "execute_result"
    }
   ],
   "source": [
    "df_cleaned[['z_best ', 'zbestM ']].head()"
   ]
  },
  {
   "cell_type": "markdown",
   "metadata": {},
   "source": [
    "El mayor problema ahora es que tenemos 2 valores de mejor redshift, uno para los datos fotométricos y otro para los datoss de masa"
   ]
  },
  {
   "cell_type": "code",
   "execution_count": 18,
   "metadata": {},
   "outputs": [
    {
     "data": {
      "text/html": [
       "<div>\n",
       "<style scoped>\n",
       "    .dataframe tbody tr th:only-of-type {\n",
       "        vertical-align: middle;\n",
       "    }\n",
       "\n",
       "    .dataframe tbody tr th {\n",
       "        vertical-align: top;\n",
       "    }\n",
       "\n",
       "    .dataframe thead th {\n",
       "        text-align: right;\n",
       "    }\n",
       "</style>\n",
       "<table border=\"1\" class=\"dataframe\">\n",
       "  <thead>\n",
       "    <tr style=\"text-align: right;\">\n",
       "      <th></th>\n",
       "      <th>RA</th>\n",
       "      <th>RAdeg (deg)</th>\n",
       "    </tr>\n",
       "  </thead>\n",
       "  <tbody>\n",
       "    <tr>\n",
       "      <th>0</th>\n",
       "      <td>215.301103</td>\n",
       "      <td>215.301100</td>\n",
       "    </tr>\n",
       "    <tr>\n",
       "      <th>1</th>\n",
       "      <td>215.301035</td>\n",
       "      <td>215.301033</td>\n",
       "    </tr>\n",
       "    <tr>\n",
       "      <th>2</th>\n",
       "      <td>215.299495</td>\n",
       "      <td>215.299493</td>\n",
       "    </tr>\n",
       "    <tr>\n",
       "      <th>3</th>\n",
       "      <td>215.293744</td>\n",
       "      <td>215.293741</td>\n",
       "    </tr>\n",
       "    <tr>\n",
       "      <th>4</th>\n",
       "      <td>215.240631</td>\n",
       "      <td>215.240622</td>\n",
       "    </tr>\n",
       "  </tbody>\n",
       "</table>\n",
       "</div>"
      ],
      "text/plain": [
       "           RA  RAdeg (deg) \n",
       "0  215.301103    215.301100\n",
       "1  215.301035    215.301033\n",
       "2  215.299495    215.299493\n",
       "3  215.293744    215.293741\n",
       "4  215.240631    215.240622"
      ]
     },
     "execution_count": 18,
     "metadata": {},
     "output_type": "execute_result"
    }
   ],
   "source": [
    "df_cleaned[['RA', 'RAdeg (deg) ']].head()"
   ]
  },
  {
   "cell_type": "code",
   "execution_count": 19,
   "metadata": {},
   "outputs": [
    {
     "data": {
      "text/html": [
       "<div>\n",
       "<style scoped>\n",
       "    .dataframe tbody tr th:only-of-type {\n",
       "        vertical-align: middle;\n",
       "    }\n",
       "\n",
       "    .dataframe tbody tr th {\n",
       "        vertical-align: top;\n",
       "    }\n",
       "\n",
       "    .dataframe thead th {\n",
       "        text-align: right;\n",
       "    }\n",
       "</style>\n",
       "<table border=\"1\" class=\"dataframe\">\n",
       "  <thead>\n",
       "    <tr style=\"text-align: right;\">\n",
       "      <th></th>\n",
       "      <th>DEC</th>\n",
       "      <th>DECdeg (deg)</th>\n",
       "    </tr>\n",
       "  </thead>\n",
       "  <tbody>\n",
       "    <tr>\n",
       "      <th>0</th>\n",
       "      <td>53.051246</td>\n",
       "      <td>53.051206</td>\n",
       "    </tr>\n",
       "    <tr>\n",
       "      <th>1</th>\n",
       "      <td>53.051430</td>\n",
       "      <td>53.051390</td>\n",
       "    </tr>\n",
       "    <tr>\n",
       "      <th>2</th>\n",
       "      <td>53.051344</td>\n",
       "      <td>53.051304</td>\n",
       "    </tr>\n",
       "    <tr>\n",
       "      <th>3</th>\n",
       "      <td>53.047429</td>\n",
       "      <td>53.047388</td>\n",
       "    </tr>\n",
       "    <tr>\n",
       "      <th>4</th>\n",
       "      <td>53.009947</td>\n",
       "      <td>53.009898</td>\n",
       "    </tr>\n",
       "  </tbody>\n",
       "</table>\n",
       "</div>"
      ],
      "text/plain": [
       "         DEC  DECdeg (deg) \n",
       "0  53.051246      53.051206\n",
       "1  53.051430      53.051390\n",
       "2  53.051344      53.051304\n",
       "3  53.047429      53.047388\n",
       "4  53.009947      53.009898"
      ]
     },
     "execution_count": 19,
     "metadata": {},
     "output_type": "execute_result"
    }
   ],
   "source": [
    "df_cleaned[['DEC', 'DECdeg (deg) ']].head()"
   ]
  },
  {
   "cell_type": "code",
   "execution_count": null,
   "metadata": {},
   "outputs": [
    {
     "data": {
      "application/vnd.plotly.v1+json": {
       "config": {
        "plotlyServerURL": "https://plot.ly"
       },
       "data": [
        {
         "lat": {
          "bdata": "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",
          "dtype": "f8"
         },
         "lon": {
          "bdata": "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",
          "dtype": "f8"
         },
         "marker": {
          "color": "blue",
          "size": 8
         },
         "mode": "markers",
         "type": "scattergeo"
        }
       ],
       "layout": {
        "autosize": false,
        "geo": {
         "countrywidth": 0.5,
         "lakecolor": "rgb(255, 255, 255)",
         "landcolor": "rgb(255, 255, 255)",
         "lataxis": {
          "dtick": 15,
          "gridcolor": "rgb(102, 102, 102)",
          "gridwidth": 0.5,
          "showgrid": true
         },
         "lonaxis": {
          "dtick": 15,
          "gridcolor": "rgb(102, 102, 102)",
          "gridwidth": 0.5,
          "showgrid": true
         },
         "oceancolor": "rgb(255, 255, 255)",
         "projection": {
          "type": "aitoff"
         },
         "showcountries": false,
         "showland": false,
         "showocean": false
        },
        "height": 1000,
        "template": {
         "data": {
          "bar": [
           {
            "error_x": {
             "color": "#2a3f5f"
            },
            "error_y": {
             "color": "#2a3f5f"
            },
            "marker": {
             "line": {
              "color": "#E5ECF6",
              "width": 0.5
             },
             "pattern": {
              "fillmode": "overlay",
              "size": 10,
              "solidity": 0.2
             }
            },
            "type": "bar"
           }
          ],
          "barpolar": [
           {
            "marker": {
             "line": {
              "color": "#E5ECF6",
              "width": 0.5
             },
             "pattern": {
              "fillmode": "overlay",
              "size": 10,
              "solidity": 0.2
             }
            },
            "type": "barpolar"
           }
          ],
          "carpet": [
           {
            "aaxis": {
             "endlinecolor": "#2a3f5f",
             "gridcolor": "white",
             "linecolor": "white",
             "minorgridcolor": "white",
             "startlinecolor": "#2a3f5f"
            },
            "baxis": {
             "endlinecolor": "#2a3f5f",
             "gridcolor": "white",
             "linecolor": "white",
             "minorgridcolor": "white",
             "startlinecolor": "#2a3f5f"
            },
            "type": "carpet"
           }
          ],
          "choropleth": [
           {
            "colorbar": {
             "outlinewidth": 0,
             "ticks": ""
            },
            "type": "choropleth"
           }
          ],
          "contour": [
           {
            "colorbar": {
             "outlinewidth": 0,
             "ticks": ""
            },
            "colorscale": [
             [
              0,
              "#0d0887"
             ],
             [
              0.1111111111111111,
              "#46039f"
             ],
             [
              0.2222222222222222,
              "#7201a8"
             ],
             [
              0.3333333333333333,
              "#9c179e"
             ],
             [
              0.4444444444444444,
              "#bd3786"
             ],
             [
              0.5555555555555556,
              "#d8576b"
             ],
             [
              0.6666666666666666,
              "#ed7953"
             ],
             [
              0.7777777777777778,
              "#fb9f3a"
             ],
             [
              0.8888888888888888,
              "#fdca26"
             ],
             [
              1,
              "#f0f921"
             ]
            ],
            "type": "contour"
           }
          ],
          "contourcarpet": [
           {
            "colorbar": {
             "outlinewidth": 0,
             "ticks": ""
            },
            "type": "contourcarpet"
           }
          ],
          "heatmap": [
           {
            "colorbar": {
             "outlinewidth": 0,
             "ticks": ""
            },
            "colorscale": [
             [
              0,
              "#0d0887"
             ],
             [
              0.1111111111111111,
              "#46039f"
             ],
             [
              0.2222222222222222,
              "#7201a8"
             ],
             [
              0.3333333333333333,
              "#9c179e"
             ],
             [
              0.4444444444444444,
              "#bd3786"
             ],
             [
              0.5555555555555556,
              "#d8576b"
             ],
             [
              0.6666666666666666,
              "#ed7953"
             ],
             [
              0.7777777777777778,
              "#fb9f3a"
             ],
             [
              0.8888888888888888,
              "#fdca26"
             ],
             [
              1,
              "#f0f921"
             ]
            ],
            "type": "heatmap"
           }
          ],
          "histogram": [
           {
            "marker": {
             "pattern": {
              "fillmode": "overlay",
              "size": 10,
              "solidity": 0.2
             }
            },
            "type": "histogram"
           }
          ],
          "histogram2d": [
           {
            "colorbar": {
             "outlinewidth": 0,
             "ticks": ""
            },
            "colorscale": [
             [
              0,
              "#0d0887"
             ],
             [
              0.1111111111111111,
              "#46039f"
             ],
             [
              0.2222222222222222,
              "#7201a8"
             ],
             [
              0.3333333333333333,
              "#9c179e"
             ],
             [
              0.4444444444444444,
              "#bd3786"
             ],
             [
              0.5555555555555556,
              "#d8576b"
             ],
             [
              0.6666666666666666,
              "#ed7953"
             ],
             [
              0.7777777777777778,
              "#fb9f3a"
             ],
             [
              0.8888888888888888,
              "#fdca26"
             ],
             [
              1,
              "#f0f921"
             ]
            ],
            "type": "histogram2d"
           }
          ],
          "histogram2dcontour": [
           {
            "colorbar": {
             "outlinewidth": 0,
             "ticks": ""
            },
            "colorscale": [
             [
              0,
              "#0d0887"
             ],
             [
              0.1111111111111111,
              "#46039f"
             ],
             [
              0.2222222222222222,
              "#7201a8"
             ],
             [
              0.3333333333333333,
              "#9c179e"
             ],
             [
              0.4444444444444444,
              "#bd3786"
             ],
             [
              0.5555555555555556,
              "#d8576b"
             ],
             [
              0.6666666666666666,
              "#ed7953"
             ],
             [
              0.7777777777777778,
              "#fb9f3a"
             ],
             [
              0.8888888888888888,
              "#fdca26"
             ],
             [
              1,
              "#f0f921"
             ]
            ],
            "type": "histogram2dcontour"
           }
          ],
          "mesh3d": [
           {
            "colorbar": {
             "outlinewidth": 0,
             "ticks": ""
            },
            "type": "mesh3d"
           }
          ],
          "parcoords": [
           {
            "line": {
             "colorbar": {
              "outlinewidth": 0,
              "ticks": ""
             }
            },
            "type": "parcoords"
           }
          ],
          "pie": [
           {
            "automargin": true,
            "type": "pie"
           }
          ],
          "scatter": [
           {
            "fillpattern": {
             "fillmode": "overlay",
             "size": 10,
             "solidity": 0.2
            },
            "type": "scatter"
           }
          ],
          "scatter3d": [
           {
            "line": {
             "colorbar": {
              "outlinewidth": 0,
              "ticks": ""
             }
            },
            "marker": {
             "colorbar": {
              "outlinewidth": 0,
              "ticks": ""
             }
            },
            "type": "scatter3d"
           }
          ],
          "scattercarpet": [
           {
            "marker": {
             "colorbar": {
              "outlinewidth": 0,
              "ticks": ""
             }
            },
            "type": "scattercarpet"
           }
          ],
          "scattergeo": [
           {
            "marker": {
             "colorbar": {
              "outlinewidth": 0,
              "ticks": ""
             }
            },
            "type": "scattergeo"
           }
          ],
          "scattergl": [
           {
            "marker": {
             "colorbar": {
              "outlinewidth": 0,
              "ticks": ""
             }
            },
            "type": "scattergl"
           }
          ],
          "scattermap": [
           {
            "marker": {
             "colorbar": {
              "outlinewidth": 0,
              "ticks": ""
             }
            },
            "type": "scattermap"
           }
          ],
          "scattermapbox": [
           {
            "marker": {
             "colorbar": {
              "outlinewidth": 0,
              "ticks": ""
             }
            },
            "type": "scattermapbox"
           }
          ],
          "scatterpolar": [
           {
            "marker": {
             "colorbar": {
              "outlinewidth": 0,
              "ticks": ""
             }
            },
            "type": "scatterpolar"
           }
          ],
          "scatterpolargl": [
           {
            "marker": {
             "colorbar": {
              "outlinewidth": 0,
              "ticks": ""
             }
            },
            "type": "scatterpolargl"
           }
          ],
          "scatterternary": [
           {
            "marker": {
             "colorbar": {
              "outlinewidth": 0,
              "ticks": ""
             }
            },
            "type": "scatterternary"
           }
          ],
          "surface": [
           {
            "colorbar": {
             "outlinewidth": 0,
             "ticks": ""
            },
            "colorscale": [
             [
              0,
              "#0d0887"
             ],
             [
              0.1111111111111111,
              "#46039f"
             ],
             [
              0.2222222222222222,
              "#7201a8"
             ],
             [
              0.3333333333333333,
              "#9c179e"
             ],
             [
              0.4444444444444444,
              "#bd3786"
             ],
             [
              0.5555555555555556,
              "#d8576b"
             ],
             [
              0.6666666666666666,
              "#ed7953"
             ],
             [
              0.7777777777777778,
              "#fb9f3a"
             ],
             [
              0.8888888888888888,
              "#fdca26"
             ],
             [
              1,
              "#f0f921"
             ]
            ],
            "type": "surface"
           }
          ],
          "table": [
           {
            "cells": {
             "fill": {
              "color": "#EBF0F8"
             },
             "line": {
              "color": "white"
             }
            },
            "header": {
             "fill": {
              "color": "#C8D4E3"
             },
             "line": {
              "color": "white"
             }
            },
            "type": "table"
           }
          ]
         },
         "layout": {
          "annotationdefaults": {
           "arrowcolor": "#2a3f5f",
           "arrowhead": 0,
           "arrowwidth": 1
          },
          "autotypenumbers": "strict",
          "coloraxis": {
           "colorbar": {
            "outlinewidth": 0,
            "ticks": ""
           }
          },
          "colorscale": {
           "diverging": [
            [
             0,
             "#8e0152"
            ],
            [
             0.1,
             "#c51b7d"
            ],
            [
             0.2,
             "#de77ae"
            ],
            [
             0.3,
             "#f1b6da"
            ],
            [
             0.4,
             "#fde0ef"
            ],
            [
             0.5,
             "#f7f7f7"
            ],
            [
             0.6,
             "#e6f5d0"
            ],
            [
             0.7,
             "#b8e186"
            ],
            [
             0.8,
             "#7fbc41"
            ],
            [
             0.9,
             "#4d9221"
            ],
            [
             1,
             "#276419"
            ]
           ],
           "sequential": [
            [
             0,
             "#0d0887"
            ],
            [
             0.1111111111111111,
             "#46039f"
            ],
            [
             0.2222222222222222,
             "#7201a8"
            ],
            [
             0.3333333333333333,
             "#9c179e"
            ],
            [
             0.4444444444444444,
             "#bd3786"
            ],
            [
             0.5555555555555556,
             "#d8576b"
            ],
            [
             0.6666666666666666,
             "#ed7953"
            ],
            [
             0.7777777777777778,
             "#fb9f3a"
            ],
            [
             0.8888888888888888,
             "#fdca26"
            ],
            [
             1,
             "#f0f921"
            ]
           ],
           "sequentialminus": [
            [
             0,
             "#0d0887"
            ],
            [
             0.1111111111111111,
             "#46039f"
            ],
            [
             0.2222222222222222,
             "#7201a8"
            ],
            [
             0.3333333333333333,
             "#9c179e"
            ],
            [
             0.4444444444444444,
             "#bd3786"
            ],
            [
             0.5555555555555556,
             "#d8576b"
            ],
            [
             0.6666666666666666,
             "#ed7953"
            ],
            [
             0.7777777777777778,
             "#fb9f3a"
            ],
            [
             0.8888888888888888,
             "#fdca26"
            ],
            [
             1,
             "#f0f921"
            ]
           ]
          },
          "colorway": [
           "#636efa",
           "#EF553B",
           "#00cc96",
           "#ab63fa",
           "#FFA15A",
           "#19d3f3",
           "#FF6692",
           "#B6E880",
           "#FF97FF",
           "#FECB52"
          ],
          "font": {
           "color": "#2a3f5f"
          },
          "geo": {
           "bgcolor": "white",
           "lakecolor": "white",
           "landcolor": "#E5ECF6",
           "showlakes": true,
           "showland": true,
           "subunitcolor": "white"
          },
          "hoverlabel": {
           "align": "left"
          },
          "hovermode": "closest",
          "mapbox": {
           "style": "light"
          },
          "paper_bgcolor": "white",
          "plot_bgcolor": "#E5ECF6",
          "polar": {
           "angularaxis": {
            "gridcolor": "white",
            "linecolor": "white",
            "ticks": ""
           },
           "bgcolor": "#E5ECF6",
           "radialaxis": {
            "gridcolor": "white",
            "linecolor": "white",
            "ticks": ""
           }
          },
          "scene": {
           "xaxis": {
            "backgroundcolor": "#E5ECF6",
            "gridcolor": "white",
            "gridwidth": 2,
            "linecolor": "white",
            "showbackground": true,
            "ticks": "",
            "zerolinecolor": "white"
           },
           "yaxis": {
            "backgroundcolor": "#E5ECF6",
            "gridcolor": "white",
            "gridwidth": 2,
            "linecolor": "white",
            "showbackground": true,
            "ticks": "",
            "zerolinecolor": "white"
           },
           "zaxis": {
            "backgroundcolor": "#E5ECF6",
            "gridcolor": "white",
            "gridwidth": 2,
            "linecolor": "white",
            "showbackground": true,
            "ticks": "",
            "zerolinecolor": "white"
           }
          },
          "shapedefaults": {
           "line": {
            "color": "#2a3f5f"
           }
          },
          "ternary": {
           "aaxis": {
            "gridcolor": "white",
            "linecolor": "white",
            "ticks": ""
           },
           "baxis": {
            "gridcolor": "white",
            "linecolor": "white",
            "ticks": ""
           },
           "bgcolor": "#E5ECF6",
           "caxis": {
            "gridcolor": "white",
            "linecolor": "white",
            "ticks": ""
           }
          },
          "title": {
           "x": 0.05
          },
          "xaxis": {
           "automargin": true,
           "gridcolor": "white",
           "linecolor": "white",
           "ticks": "",
           "title": {
            "standoff": 15
           },
           "zerolinecolor": "white",
           "zerolinewidth": 2
          },
          "yaxis": {
           "automargin": true,
           "gridcolor": "white",
           "linecolor": "white",
           "ticks": "",
           "title": {
            "standoff": 15
           },
           "zerolinecolor": "white",
           "zerolinewidth": 2
          }
         }
        },
        "width": 1000
       }
      }
     },
     "metadata": {},
     "output_type": "display_data"
    }
   ],
   "source": [
    "from astropy.coordinates import SkyCoord\n",
    "import astropy.units as u\n",
    "import plotly.graph_objects as go\n",
    "import matplotlib.pyplot as plt\n",
    "\n",
    "def eq2gal(ra, dec):\n",
    "    \n",
    "    '''\n",
    "    Transforms equatorial coordinates to galactic ones.\n",
    "    Then prepares them for matplotlib aitoff projection. \n",
    "    '''\n",
    "    \n",
    "    eq = SkyCoord(ra, dec, unit=u.deg)\n",
    "    gal = eq.galactic\n",
    "\n",
    "    # Minus appears because of “mapping from the inside” issue\n",
    "    l_gal, b_gal = -gal.l.wrap_at('180d').radian, gal.b.radian\n",
    "    \n",
    "    return l_gal, b_gal\n",
    "\n",
    "\n",
    "ra, dec = eq2gal(df_cleaned['RA'], df_cleaned['DEC'])\n",
    "fig = go.Figure()\n",
    "\n",
    "fig.add_trace(go.Scattergeo(\n",
    "    mode=\"markers\",\n",
    "    lon = ra,\n",
    "    lat = dec,\n",
    "    marker = {'size': 8,\n",
    "              'color':'blue',\n",
    "             })\n",
    "             )\n",
    "fig.update_layout(geo=dict(\n",
    "                    showland=False,\n",
    "                    showcountries=False,\n",
    "                    showocean=False,\n",
    "                    countrywidth=0.5,\n",
    "                    #coastlinecolor='rgb(255, 255, 255)',\n",
    "                    landcolor='rgb(255, 255, 255)',\n",
    "                    lakecolor='rgb(255, 255, 255)',\n",
    "                    oceancolor='rgb(255, 255, 255)',\n",
    "                    projection=dict(\n",
    "                        type='aitoff',\n",
    "                    ),\n",
    "                    lonaxis=dict(\n",
    "                        showgrid=True,\n",
    "                        dtick=15,\n",
    "                        gridcolor='rgb(102, 102, 102)',\n",
    "                        gridwidth=0.5\n",
    "                    ),\n",
    "                    lataxis=dict(\n",
    "                        showgrid=True,\n",
    "                        dtick=15,\n",
    "                        gridcolor='rgb(102, 102, 102)',\n",
    "                        gridwidth=0.5\n",
    "                    )\n",
    "                ),autosize=False,\n",
    "    width=1000,\n",
    "    height=1000,\n",
    ")\n",
    "fig.show()\n"
   ]
  },
  {
   "cell_type": "markdown",
   "metadata": {},
   "source": [
    "Estan las 11.000 galaxias en 1 punto enano en la tierra, bastante impresionante"
   ]
  },
  {
   "cell_type": "markdown",
   "metadata": {},
   "source": [
    "Podemos eliminar una de estas columnas ya que son iguales, luego habrá que ver que más columnas podemos quitar como los z que no son zbest"
   ]
  },
  {
   "cell_type": "markdown",
   "metadata": {},
   "source": [
    "Lista de columnas a eliminar:\n",
    "    - DEC\n",
    "    - RA\n",
    "    - AGNflag\n",
    "    - file"
   ]
  },
  {
   "cell_type": "markdown",
   "metadata": {},
   "source": [
    "Ahora vamos a estudiar a un solo autor, luego si podemos estudiamos al resto de autores."
   ]
  },
  {
   "cell_type": "code",
   "execution_count": 26,
   "metadata": {},
   "outputs": [
    {
     "data": {
      "text/html": [
       "<div>\n",
       "<style scoped>\n",
       "    .dataframe tbody tr th:only-of-type {\n",
       "        vertical-align: middle;\n",
       "    }\n",
       "\n",
       "    .dataframe tbody tr th {\n",
       "        vertical-align: top;\n",
       "    }\n",
       "\n",
       "    .dataframe thead th {\n",
       "        text-align: right;\n",
       "    }\n",
       "</style>\n",
       "<table border=\"1\" class=\"dataframe\">\n",
       "  <thead>\n",
       "    <tr style=\"text-align: right;\">\n",
       "      <th></th>\n",
       "      <th>ID</th>\n",
       "      <th>age_6a_tau (dex(yr))</th>\n",
       "      <th>tau_6a_tau (Gyr)</th>\n",
       "      <th>EBV_6a_tau (mag)</th>\n",
       "      <th>SFR_6a_tau (solMass/yr)</th>\n",
       "      <th>met_6a_tau (solMet)</th>\n",
       "      <th>extlw_6a_tau</th>\n",
       "      <th>chi2_6a_tau</th>\n",
       "      <th>L1400_6a_tau (erg/s/Hz)</th>\n",
       "      <th>L2700_6a_tau (erg/s/Hz)</th>\n",
       "      <th>...</th>\n",
       "      <th>RMag_6a_invtau (mag)</th>\n",
       "      <th>IMag_6a_invtau (mag)</th>\n",
       "      <th>JMag_6a_invtau (mag)</th>\n",
       "      <th>KMag_6a_invtau (mag)</th>\n",
       "      <th>z_best</th>\n",
       "      <th>z_best_type</th>\n",
       "      <th>RAdeg (deg)</th>\n",
       "      <th>zbestM</th>\n",
       "      <th>M_6a_tau^NEB (dex(solMass))</th>\n",
       "      <th>M_6a_tau (dex(solMass))</th>\n",
       "    </tr>\n",
       "  </thead>\n",
       "  <tbody>\n",
       "    <tr>\n",
       "      <th>0</th>\n",
       "      <td>1</td>\n",
       "      <td>9.06</td>\n",
       "      <td>0.6</td>\n",
       "      <td>0.45</td>\n",
       "      <td>5.656</td>\n",
       "      <td>2.5</td>\n",
       "      <td>2</td>\n",
       "      <td>8.260</td>\n",
       "      <td>1.450000e+26</td>\n",
       "      <td>5.100000e+27</td>\n",
       "      <td>...</td>\n",
       "      <td>-20.73</td>\n",
       "      <td>-21.17</td>\n",
       "      <td>-21.92</td>\n",
       "      <td>-22.00</td>\n",
       "      <td>1.947</td>\n",
       "      <td>p</td>\n",
       "      <td>215.301100</td>\n",
       "      <td>1.700</td>\n",
       "      <td>10.14</td>\n",
       "      <td>10.08</td>\n",
       "    </tr>\n",
       "    <tr>\n",
       "      <th>1</th>\n",
       "      <td>7</td>\n",
       "      <td>9.36</td>\n",
       "      <td>0.1</td>\n",
       "      <td>0.00</td>\n",
       "      <td>0.000</td>\n",
       "      <td>0.2</td>\n",
       "      <td>2</td>\n",
       "      <td>5.820</td>\n",
       "      <td>2.760000e+25</td>\n",
       "      <td>3.070000e+27</td>\n",
       "      <td>...</td>\n",
       "      <td>-20.26</td>\n",
       "      <td>-20.60</td>\n",
       "      <td>-20.96</td>\n",
       "      <td>-20.59</td>\n",
       "      <td>1.567</td>\n",
       "      <td>p</td>\n",
       "      <td>215.301033</td>\n",
       "      <td>1.611</td>\n",
       "      <td>9.77</td>\n",
       "      <td>9.77</td>\n",
       "    </tr>\n",
       "    <tr>\n",
       "      <th>2</th>\n",
       "      <td>16</td>\n",
       "      <td>9.34</td>\n",
       "      <td>15.0</td>\n",
       "      <td>0.20</td>\n",
       "      <td>2.839</td>\n",
       "      <td>2.5</td>\n",
       "      <td>2</td>\n",
       "      <td>0.858</td>\n",
       "      <td>1.890000e+27</td>\n",
       "      <td>1.020000e+28</td>\n",
       "      <td>...</td>\n",
       "      <td>-20.11</td>\n",
       "      <td>-20.42</td>\n",
       "      <td>-21.02</td>\n",
       "      <td>-21.12</td>\n",
       "      <td>1.879</td>\n",
       "      <td>p</td>\n",
       "      <td>215.299493</td>\n",
       "      <td>1.673</td>\n",
       "      <td>9.74</td>\n",
       "      <td>9.61</td>\n",
       "    </tr>\n",
       "    <tr>\n",
       "      <th>3</th>\n",
       "      <td>18</td>\n",
       "      <td>7.50</td>\n",
       "      <td>2.0</td>\n",
       "      <td>0.45</td>\n",
       "      <td>80.020</td>\n",
       "      <td>1.0</td>\n",
       "      <td>1</td>\n",
       "      <td>6.690</td>\n",
       "      <td>7.890000e+27</td>\n",
       "      <td>2.950000e+28</td>\n",
       "      <td>...</td>\n",
       "      <td>-20.98</td>\n",
       "      <td>-21.32</td>\n",
       "      <td>-22.00</td>\n",
       "      <td>-22.16</td>\n",
       "      <td>1.788</td>\n",
       "      <td>p</td>\n",
       "      <td>215.293741</td>\n",
       "      <td>1.987</td>\n",
       "      <td>9.94</td>\n",
       "      <td>9.35</td>\n",
       "    </tr>\n",
       "    <tr>\n",
       "      <th>4</th>\n",
       "      <td>19</td>\n",
       "      <td>8.90</td>\n",
       "      <td>0.3</td>\n",
       "      <td>0.35</td>\n",
       "      <td>10.630</td>\n",
       "      <td>1.0</td>\n",
       "      <td>1</td>\n",
       "      <td>1.150</td>\n",
       "      <td>4.270000e+27</td>\n",
       "      <td>1.670000e+28</td>\n",
       "      <td>...</td>\n",
       "      <td>-21.80</td>\n",
       "      <td>-22.19</td>\n",
       "      <td>-22.80</td>\n",
       "      <td>-22.92</td>\n",
       "      <td>1.750</td>\n",
       "      <td>p</td>\n",
       "      <td>215.240622</td>\n",
       "      <td>1.762</td>\n",
       "      <td>10.46</td>\n",
       "      <td>10.45</td>\n",
       "    </tr>\n",
       "  </tbody>\n",
       "</table>\n",
       "<p>5 rows × 71 columns</p>\n",
       "</div>"
      ],
      "text/plain": [
       "   ID  age_6a_tau (dex(yr))  tau_6a_tau (Gyr)  EBV_6a_tau (mag)  \\\n",
       "0   1                  9.06               0.6              0.45   \n",
       "1   7                  9.36               0.1              0.00   \n",
       "2  16                  9.34              15.0              0.20   \n",
       "3  18                  7.50               2.0              0.45   \n",
       "4  19                  8.90               0.3              0.35   \n",
       "\n",
       "   SFR_6a_tau (solMass/yr)  met_6a_tau (solMet)  extlw_6a_tau   chi2_6a_tau   \\\n",
       "0                    5.656                  2.5              2         8.260   \n",
       "1                    0.000                  0.2              2         5.820   \n",
       "2                    2.839                  2.5              2         0.858   \n",
       "3                   80.020                  1.0              1         6.690   \n",
       "4                   10.630                  1.0              1         1.150   \n",
       "\n",
       "   L1400_6a_tau (erg/s/Hz)  L2700_6a_tau (erg/s/Hz)  ...  \\\n",
       "0             1.450000e+26             5.100000e+27  ...   \n",
       "1             2.760000e+25             3.070000e+27  ...   \n",
       "2             1.890000e+27             1.020000e+28  ...   \n",
       "3             7.890000e+27             2.950000e+28  ...   \n",
       "4             4.270000e+27             1.670000e+28  ...   \n",
       "\n",
       "   RMag_6a_invtau (mag)  IMag_6a_invtau (mag)  JMag_6a_invtau (mag)  \\\n",
       "0                -20.73                -21.17                -21.92   \n",
       "1                -20.26                -20.60                -20.96   \n",
       "2                -20.11                -20.42                -21.02   \n",
       "3                -20.98                -21.32                -22.00   \n",
       "4                -21.80                -22.19                -22.80   \n",
       "\n",
       "   KMag_6a_invtau (mag)  z_best   z_best_type   RAdeg (deg)   zbestM   \\\n",
       "0                -22.00    1.947             p    215.301100    1.700   \n",
       "1                -20.59    1.567             p    215.301033    1.611   \n",
       "2                -21.12    1.879             p    215.299493    1.673   \n",
       "3                -22.16    1.788             p    215.293741    1.987   \n",
       "4                -22.92    1.750             p    215.240622    1.762   \n",
       "\n",
       "   M_6a_tau^NEB (dex(solMass))   M_6a_tau (dex(solMass))   \n",
       "0                         10.14                     10.08  \n",
       "1                          9.77                      9.77  \n",
       "2                          9.74                      9.61  \n",
       "3                          9.94                      9.35  \n",
       "4                         10.46                     10.45  \n",
       "\n",
       "[5 rows x 71 columns]"
      ]
     },
     "execution_count": 26,
     "metadata": {},
     "output_type": "execute_result"
    }
   ],
   "source": [
    "fontana = df_cleaned.filter(regex = r'6a|^ID|^z_best|^zbestM|^RAdeg|^DECdeg$', axis=1)\n",
    "fontana.head()"
   ]
  },
  {
   "cell_type": "markdown",
   "metadata": {},
   "source": [
    "# Creamos unos repots en HTML para explorar los datos"
   ]
  },
  {
   "cell_type": "markdown",
   "metadata": {},
   "source": [
    "#import pandas as pd\n",
    "\n",
    "from tqdm._tqdm import tqdm \n",
    "from ydata_profiling import ProfileReport\n",
    "from IPython.display import display\n",
    "\n",
    "# Create a DataFrame\n",
    "\n",
    "\n",
    "# Generate the profile report\n",
    "#profile1 = ProfileReport(cosmic_noon_phys_prop, title=\"Physical properties of the galaxies in COSMIC Noon\")\n",
    "#\n",
    "#profile1.to_file(\"cosmic_noon_phys_prop_report.html\")\n",
    "\n",
    "\n",
    "# Embed HTML file using IFrame\n",
    "file_path = 'cosmic_noon_mass_prop_report.html'  \n",
    "from IPython.core.display import HTML\n",
    "\n",
    "\n",
    "with open(file_path, 'r') as f:\n",
    "    html_content = f.read()\n",
    "\n",
    "display(HTML(html_content))\n"
   ]
  },
  {
   "cell_type": "code",
   "execution_count": null,
   "metadata": {},
   "outputs": [],
   "source": [
    "#profile2 = ProfileReport(cosmic_noon_phot, title=\"Redshift of the galaxies in COSMIC Noon\")\n",
    "#profile2.to_file(\"cosmic_noon_phot_prop_report.html\") \n"
   ]
  },
  {
   "cell_type": "code",
   "execution_count": null,
   "metadata": {},
   "outputs": [],
   "source": [
    "#profile3 = ProfileReport(cosmic_noon_mass, title=\"Mass of the galaxies in COSMIC Noon\")\n",
    "#profile3.to_file(\"cosmic_noon_mass_prop_report.html\")"
   ]
  },
  {
   "cell_type": "code",
   "execution_count": null,
   "metadata": {},
   "outputs": [
    {
     "ename": "NameError",
     "evalue": "name 'ProfileReport' is not defined",
     "output_type": "error",
     "traceback": [
      "\u001b[1;31m---------------------------------------------------------------------------\u001b[0m",
      "\u001b[1;31mNameError\u001b[0m                                 Traceback (most recent call last)",
      "Cell \u001b[1;32mIn[24], line 1\u001b[0m\n\u001b[1;32m----> 1\u001b[0m profile4 \u001b[38;5;241m=\u001b[39m \u001b[43mProfileReport\u001b[49m(cosmic_noon_mass, title\u001b[38;5;241m=\u001b[39m\u001b[38;5;124m\"\u001b[39m\u001b[38;5;124mMass of the galaxies in COSMIC Noon\u001b[39m\u001b[38;5;124m\"\u001b[39m)\n\u001b[0;32m      2\u001b[0m profile4\u001b[38;5;241m.\u001b[39mto_file(\u001b[38;5;124m\"\u001b[39m\u001b[38;5;124mcosmic_noon_mass_prop_report.html\u001b[39m\u001b[38;5;124m\"\u001b[39m)\n",
      "\u001b[1;31mNameError\u001b[0m: name 'ProfileReport' is not defined"
     ]
    }
   ],
   "source": [
    "profile4 = ProfileReport(cosmic_noon_mass, title=\"Mass of the galaxies in COSMIC Noon\")\n",
    "profile4.to_file(\"cosmic_noon_mass_prop_report.html\")"
   ]
  },
  {
   "cell_type": "code",
   "execution_count": null,
   "metadata": {},
   "outputs": [],
   "source": [
    "cosmic_noon_phys_prop"
   ]
  },
  {
   "cell_type": "markdown",
   "metadata": {},
   "source": [
    "#hue = cosmic_noon_mass[[\"\",\"\"]]\n",
    "mas_cols=[i for i in mass_data.columns[21:35]]\n",
    "\n",
    "g = sns.PairGrid(cosmic_noon_mass[mas_cols]) \n",
    "g.map_diag(sns.histplot)\n",
    "g.map_offdiag(sns.scatterplot, hue=cosmic_noon_mass[\"AGNflag        \"])\n",
    "g.add_legend(title=\"\", adjust_subtitles=True)"
   ]
  },
  {
   "cell_type": "code",
   "execution_count": null,
   "metadata": {},
   "outputs": [],
   "source": [
    "def translate_column_name(column_name):\n",
    "    # Dictionaries for mapping codes and SFH types\n",
    "    pi_codes = {\n",
    "        '2a': 'Barro',\n",
    "        '6a': 'Fontana',\n",
    "        '10a': 'Pforr',\n",
    "        '11a': 'Salvato',\n",
    "        '12a': 'Wiklind',\n",
    "        '13a': 'Wuyts',\n",
    "        '14a': 'BooMe Lee',\n",
    "        '15a': 'Lee',\n",
    "    }\n",
    "    \n",
    "    sfh_types = {\n",
    "        'cons': 'constant',\n",
    "        'tau': 'exponentially declining',\n",
    "        'deltau': 'delayed-exponential',\n",
    "        'lin': 'linearly increasing',\n",
    "        'inctau': 'exponentially increasing',\n",
    "    }\n",
    "    \n",
    "    # Split the input string to isolate the relevant part\n",
    "    relevant_part = column_name.split(' ')[0]\n",
    "    \n",
    "    try:\n",
    "        # Split the relevant part into components\n",
    "        _, pi_code, sfh_code = relevant_part.split('_')\n",
    "        \n",
    "        # Translate using the dictionaries\n",
    "        pi_translation = pi_codes.get(pi_code, 'Unknown PI code')\n",
    "        sfh_translation = sfh_types.get(sfh_code, 'Unknown SFH type')\n",
    "        \n",
    "        # Create a dictionary for the output\n",
    "        \n",
    "        return {\n",
    "            \"PI\": pi_translation,\n",
    "            \"SFH\": sfh_translation\n",
    "        }\n",
    "    except ValueError:\n",
    "        return {\"error\": \"Invalid column name format\"}\n",
    "\n",
    "# Example usage\n",
    "column_name = \"M_2a_tau   (dex(solMass)))\"\n",
    "translated = translate_column_name(column_name)\n",
    "print(translated)  # Output: {'PI': 'Barro', 'SFH': 'exponentially declining'}\n"
   ]
  },
  {
   "cell_type": "code",
   "execution_count": null,
   "metadata": {},
   "outputs": [],
   "source": [
    "# Mostrar estadísticas descriptivas para las columnas 21 a 34 (Python usa índices de 0)\n",
    "mass_data_subset = mass_data.iloc[:, 21:35]\n",
    "filtered_data = mass_data_subset[(mass_data_subset > 0).all(axis=1)]\n",
    "filtered_data[:5]\n"
   ]
  },
  {
   "cell_type": "code",
   "execution_count": null,
   "metadata": {},
   "outputs": [],
   "source": [
    "for i in mass_data.columns[21:35]:\n",
    "    g = sns.JointGrid(data=cosmic_noon_mass[cosmic_noon_mass[i]>0], x=\"zbest          \", y=i)\n",
    "    trans = translate_column_name(i)\n",
    "    title = f\"Mass vs redshift from {trans['PI']} using {trans['SFH']}\"\n",
    "    g.plot(sns.regplot, sns.histplot)\n",
    "    plt.suptitle(title, y = 1)\n"
   ]
  },
  {
   "cell_type": "code",
   "execution_count": null,
   "metadata": {},
   "outputs": [],
   "source": [
    "import seaborn as sns\n",
    "import matplotlib.pyplot as plt\n",
    "\n",
    "# Crear el pairplot para todas las columnas seleccionadas\n",
    "sns.pairplot(filtered_data)\n",
    "\n",
    "# Título del gráfico\n",
    "plt.suptitle('Comparación de columnas entre sí', y=1.02)\n",
    "\n",
    "# Mostrar el gráfico\n",
    "plt.show()\n",
    "\n"
   ]
  },
  {
   "cell_type": "code",
   "execution_count": null,
   "metadata": {},
   "outputs": [],
   "source": [
    "import pandas as pd\n",
    "import seaborn as sns\n",
    "import matplotlib.pyplot as plt\n",
    "\n",
    "# Calcula la matriz de correlación\n",
    "correlation_matrix = filtered_data.corr()\n",
    "\n",
    "# Grafica el mapa de calor\n",
    "plt.figure(figsize=(10, 8))\n",
    "sns.heatmap(correlation_matrix, annot=True, cmap='coolwarm', vmin=-1, vmax=1)\n",
    "plt.title(\"Mapa de Calor de Correlación\")\n",
    "plt.show()\n"
   ]
  },
  {
   "cell_type": "code",
   "execution_count": null,
   "metadata": {},
   "outputs": [],
   "source": [
    "# Selecciona las columnas con correlación alta\n",
    "high_corr_columns = correlation_matrix.columns[(correlation_matrix > 0.9).any() | (correlation_matrix < -0.9).any()]\n",
    "filtered_df = filtered_data[high_corr_columns]\n",
    "\n",
    "# Grafica el pairplot solo para las columnas seleccionadas\n",
    "sns.pairplot(filtered_df)\n",
    "plt.suptitle(\"Pairplot Filtrado (Solo Correlaciones Significativas)\", y=1.02)\n",
    "plt.show()\n"
   ]
  },
  {
   "cell_type": "markdown",
   "metadata": {},
   "source": [
    "# Dendograma de la masa de los diferentes autores"
   ]
  },
  {
   "cell_type": "code",
   "execution_count": null,
   "metadata": {},
   "outputs": [],
   "source": [
    "from scipy.cluster.hierarchy import dendrogram, linkage\n",
    "\n",
    "# Calcula las distancias y el linkage para el dendrograma\n",
    "linked = linkage(filtered_data.T, method='ward', optimal_ordering=True)  # 'ward' es común, pero se pueden probar otros métodos\n",
    "\n",
    "# Grafica el dendrograma\n",
    "plt.figure(figsize=(10, 6))\n",
    "dendrogram(linked, labels=filtered_data.columns, orientation='top', leaf_rotation=90)\n",
    "plt.title(\"Dendrograma de Similitud entre la masa de los autores\")\n",
    "plt.show()\n"
   ]
  },
  {
   "cell_type": "markdown",
   "metadata": {},
   "source": [
    "# PCA"
   ]
  },
  {
   "cell_type": "code",
   "execution_count": null,
   "metadata": {},
   "outputs": [],
   "source": [
    "from sklearn.decomposition import PCA\n",
    "import numpy as np\n",
    "\n",
    "# Normaliza los datos (opcional pero recomendado para PCA)\n",
    "df_normalized = (filtered_data - filtered_data.mean()) / filtered_data.std()\n",
    "\n",
    "# Aplica PCA\n",
    "pca = PCA(n_components=2)\n",
    "pca_result = pca.fit_transform(df_normalized.T)  # Transpuesta para comparar columnas en lugar de filas\n",
    "\n",
    "# Grafica los resultados de PCA\n",
    "plt.figure(figsize=(8, 6))\n",
    "plt.scatter(pca_result[:, 0], pca_result[:, 1])\n",
    "\n",
    "# Añade etiquetas a cada punto\n",
    "for i, column in enumerate(filtered_data.columns):\n",
    "    plt.text(pca_result[i, 0], pca_result[i, 1], column)\n",
    "\n",
    "plt.title(\"Análisis de Componentes Principales (PCA) de Columnas\")\n",
    "plt.xlabel(\"Componente Principal 1\")\n",
    "plt.ylabel(\"Componente Principal 2\")\n",
    "plt.show()\n"
   ]
  },
  {
   "cell_type": "code",
   "execution_count": null,
   "metadata": {},
   "outputs": [],
   "source": [
    "import numpy as np\n",
    "import seaborn as sns\n",
    "import matplotlib.pyplot as plt\n",
    "from scipy.optimize import curve_fit\n",
    "\n",
    "# Definir funciones para el ajuste de curvas\n",
    "def linear(x, a, b):\n",
    "    return a * x + b\n",
    "\n",
    "def quadratic(x, a, b, c):\n",
    "    return a * x**2 + b * x + c\n",
    "\n",
    "def exponential(x, a, b):\n",
    "    return a * np.exp(b * x)\n",
    "\n",
    "# Seleccionar dos columnas para comparar (por ejemplo, 'col1' y 'col2')\n",
    "for i in range(len(filtered_data.columns)-1):\n",
    "    p = filtered_data.columns[i]\n",
    "    s = filtered_data.columns[i+1]\n",
    "    x = filtered_data[p]\n",
    "    y = filtered_data[s]\n",
    "\n",
    "    # Gráfico de dispersión\n",
    "    plt.scatter(x, y, label=\"Datos\")\n",
    "\n",
    "    # Ajuste de curva lineal\n",
    "    params, _ = curve_fit(linear, x, y)\n",
    "    plt.plot(x, linear(x, *params), label=\"Lineal\", color='red')\n",
    "\n",
    "    # Ajuste de curva cuadrática\n",
    "    params, _ = curve_fit(quadratic, x, y)\n",
    "    plt.plot(x, quadratic(x, *params), label=\"Cuadrática\", color='green')\n",
    "\n",
    "    # Ajuste de curva exponencial\n",
    "    params, _ = curve_fit(exponential, x, y)\n",
    "    plt.plot(x, exponential(x, *params), label=\"Exponencial\", color='blue')\n",
    "\n",
    "    # Personalización del gráfico\n",
    "    plt.legend()\n",
    "    plt.xlabel(filtered_data.columns[i])\n",
    "    plt.ylabel(filtered_data.columns[i+1])\n",
    "    plt.title(\"Ajuste de Curvas: Lineal, Cuadrática y Exponencial\")\n",
    "    plt.show()\n"
   ]
  },
  {
   "cell_type": "code",
   "execution_count": null,
   "metadata": {},
   "outputs": [],
   "source": [
    "for i in range(len(filtered_data.columns)-1):\n",
    "    p = filtered_data.columns[i]\n",
    "    s = filtered_data.columns[i+1]\n",
    "    x = filtered_data[p]\n",
    "    y = filtered_data[s]\n",
    "\n",
    "# Correlación de Spearman\n",
    "    spearman_corr = x.corr(y, method='spearman')\n",
    "    print(f\"Correlación de Spearman de {p} con {x}: {spearman_corr}\")\n",
    "\n",
    "    # Correlación de Kendall\n",
    "    kendall_corr = x.corr(y, method='kendall')\n",
    "    print(f\"Correlación de Kendall de {p} con {x}: {kendall_corr}\")\n"
   ]
  },
  {
   "cell_type": "code",
   "execution_count": null,
   "metadata": {},
   "outputs": [],
   "source": [
    "from sklearn.metrics import r2_score\n",
    "\n",
    "# Ajuste lineal\n",
    "for i in range(len(filtered_data.columns)-1):\n",
    "    p = filtered_data.columns[i]\n",
    "    s = filtered_data.columns[i+1]\n",
    "    x = filtered_data[p]\n",
    "    y = filtered_data[s]\n",
    "    params, _ = curve_fit(linear, x, y)\n",
    "    y_pred_linear = linear(x, *params)\n",
    "    r2_linear = r2_score(y, y_pred_linear)\n",
    "\n",
    "    # Ajuste cuadrático\n",
    "    params, _ = curve_fit(quadratic, x, y)\n",
    "    y_pred_quadratic = quadratic(x, *params)\n",
    "    r2_quadratic = r2_score(y, y_pred_quadratic)\n",
    "\n",
    "    # Ajuste exponencial\n",
    "    params, _ = curve_fit(exponential, x, y)\n",
    "    y_pred_exponential = exponential(x, *params)\n",
    "    r2_exponential = r2_score(y, y_pred_exponential)\n",
    "    print(f\"{p} vs {s}:\")\n",
    "    if r2_linear >0.9 or r2_quadratic >0.9 or r2_exponential >0.9:\n",
    "        print(\"R² Lineal:\", r2_linear)\n",
    "        print(\"R² Cuadrática:\", r2_quadratic)\n",
    "        print(\"R² Exponencial:\", r2_exponential)\n",
    "    else:\n",
    "        print(\"R² muy bajo\")\n"
   ]
  },
  {
   "cell_type": "code",
   "execution_count": null,
   "metadata": {},
   "outputs": [],
   "source": [
    "\n",
    "for i in range(len(filtered_data.columns)-1):\n",
    "    p = filtered_data.columns[i]\n",
    "    s = filtered_data.columns[i+1]\n",
    "    \n",
    "# Regresión lineal (order=1)\n",
    "    sns.regplot(x=p, y=s, data=filtered_data, order=1, line_kws={\"color\": \"red\"}, label=\"Lineal\")\n",
    "\n",
    "    # Regresión cuadrática (order=2)\n",
    "    sns.regplot(x=p, y=s, data=filtered_data, order=2, line_kws={\"color\": \"green\"}, label=\"Cuadrática\")\n",
    "\n",
    "    # Regresión cúbica (order=3)\n",
    "    sns.regplot(x=p, y=s, data=filtered_data, order=3, line_kws={\"color\": \"blue\"}, label=\"Cúbica\")\n",
    "\n",
    "    plt.legend()\n",
    "    plt.title(\"Ajuste de Regresiones de Diferentes Órdenes\")\n",
    "    plt.show()\n"
   ]
  },
  {
   "cell_type": "code",
   "execution_count": null,
   "metadata": {},
   "outputs": [],
   "source": [
    "import matplotlib.pyplot as plt\n",
    "import numpy as np\n",
    "\n",
    "r = np.arange(0, 2, 0.01)\n",
    "theta = 2 * np.pi * r\n",
    "\n",
    "fig, ax = plt.subplots(subplot_kw={'projection': 'polar'})\n",
    "ax.plot(theta, r)\n",
    "ax.set_rmax(2)\n",
    "ax.set_rticks([0.5, 1, 1.5, 2])  # Less radial ticks\n",
    "ax.set_rlabel_position(-22.5)  # Move radial labels away from plotted line\n",
    "ax.grid(True)\n",
    "\n",
    "ax.set_title(\"A line plot on a polar axis\", va='bottom')\n",
    "plt.show()"
   ]
  }
 ],
 "metadata": {
  "kernelspec": {
   "display_name": ".venv",
   "language": "python",
   "name": "python3"
  },
  "language_info": {
   "codemirror_mode": {
    "name": "ipython",
    "version": 3
   },
   "file_extension": ".py",
   "mimetype": "text/x-python",
   "name": "python",
   "nbconvert_exporter": "python",
   "pygments_lexer": "ipython3",
   "version": "3.11.8"
  }
 },
 "nbformat": 4,
 "nbformat_minor": 2
}
